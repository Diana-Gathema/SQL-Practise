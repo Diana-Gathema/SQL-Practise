{
 "cells": [
  {
   "cell_type": "code",
   "execution_count": 1,
   "id": "2c1675b5",
   "metadata": {
    "scrolled": true,
    "vscode": {
     "languageId": "sql"
    }
   },
   "outputs": [
    {
     "name": "stdout",
     "output_type": "stream",
     "text": [
      "Requirement already satisfied: ipython-sql in c:\\programdata\\anaconda3\\envs\\myenv\\lib\\site-packages (0.5.0)\n",
      "Requirement already satisfied: sqlalchemy>=2.0 in c:\\programdata\\anaconda3\\envs\\myenv\\lib\\site-packages (from ipython-sql) (2.0.12)\n",
      "Requirement already satisfied: six in c:\\programdata\\anaconda3\\envs\\myenv\\lib\\site-packages (from ipython-sql) (1.16.0)\n",
      "Requirement already satisfied: sqlparse in c:\\programdata\\anaconda3\\envs\\myenv\\lib\\site-packages (from ipython-sql) (0.4.4)\n",
      "Requirement already satisfied: ipython in c:\\programdata\\anaconda3\\envs\\myenv\\lib\\site-packages (from ipython-sql) (8.13.2)\n",
      "Requirement already satisfied: ipython-genutils in c:\\programdata\\anaconda3\\envs\\myenv\\lib\\site-packages (from ipython-sql) (0.2.0)\n",
      "Requirement already satisfied: prettytable in c:\\programdata\\anaconda3\\envs\\myenv\\lib\\site-packages (from ipython-sql) (3.7.0)\n",
      "Requirement already satisfied: greenlet!=0.4.17 in c:\\programdata\\anaconda3\\envs\\myenv\\lib\\site-packages (from sqlalchemy>=2.0->ipython-sql) (2.0.2)\n",
      "Requirement already satisfied: typing-extensions>=4.2.0 in c:\\programdata\\anaconda3\\envs\\myenv\\lib\\site-packages (from sqlalchemy>=2.0->ipython-sql) (4.5.0)\n",
      "Requirement already satisfied: prompt-toolkit!=3.0.37,<3.1.0,>=3.0.30 in c:\\programdata\\anaconda3\\envs\\myenv\\lib\\site-packages (from ipython->ipython-sql) (3.0.38)\n",
      "Requirement already satisfied: matplotlib-inline in c:\\programdata\\anaconda3\\envs\\myenv\\lib\\site-packages (from ipython->ipython-sql) (0.1.6)\n",
      "Requirement already satisfied: pickleshare in c:\\programdata\\anaconda3\\envs\\myenv\\lib\\site-packages (from ipython->ipython-sql) (0.7.5)\n",
      "Requirement already satisfied: colorama in c:\\programdata\\anaconda3\\envs\\myenv\\lib\\site-packages (from ipython->ipython-sql) (0.4.6)\n",
      "Requirement already satisfied: stack-data in c:\\programdata\\anaconda3\\envs\\myenv\\lib\\site-packages (from ipython->ipython-sql) (0.6.2)\n",
      "Requirement already satisfied: pygments>=2.4.0 in c:\\programdata\\anaconda3\\envs\\myenv\\lib\\site-packages (from ipython->ipython-sql) (2.15.1)\n",
      "Requirement already satisfied: backcall in c:\\programdata\\anaconda3\\envs\\myenv\\lib\\site-packages (from ipython->ipython-sql) (0.2.0)\n",
      "Requirement already satisfied: decorator in c:\\programdata\\anaconda3\\envs\\myenv\\lib\\site-packages (from ipython->ipython-sql) (5.1.1)\n",
      "Requirement already satisfied: jedi>=0.16 in c:\\programdata\\anaconda3\\envs\\myenv\\lib\\site-packages (from ipython->ipython-sql) (0.18.2)\n",
      "Requirement already satisfied: traitlets>=5 in c:\\programdata\\anaconda3\\envs\\myenv\\lib\\site-packages (from ipython->ipython-sql) (5.9.0)\n",
      "Requirement already satisfied: wcwidth in c:\\programdata\\anaconda3\\envs\\myenv\\lib\\site-packages (from prettytable->ipython-sql) (0.2.6)\n",
      "Requirement already satisfied: parso<0.9.0,>=0.8.0 in c:\\programdata\\anaconda3\\envs\\myenv\\lib\\site-packages (from jedi>=0.16->ipython->ipython-sql) (0.8.3)\n",
      "Requirement already satisfied: pure-eval in c:\\programdata\\anaconda3\\envs\\myenv\\lib\\site-packages (from stack-data->ipython->ipython-sql) (0.2.2)\n",
      "Requirement already satisfied: executing>=1.2.0 in c:\\programdata\\anaconda3\\envs\\myenv\\lib\\site-packages (from stack-data->ipython->ipython-sql) (1.2.0)\n",
      "Requirement already satisfied: asttokens>=2.1.0 in c:\\programdata\\anaconda3\\envs\\myenv\\lib\\site-packages (from stack-data->ipython->ipython-sql) (2.2.1)\n"
     ]
    }
   ],
   "source": [
    "!pip install ipython-sql"
   ]
  },
  {
   "cell_type": "code",
   "execution_count": 2,
   "id": "cda91bac",
   "metadata": {},
   "outputs": [],
   "source": [
    "# To enable SQL to run on jupyter\n",
    "# loading the database\n",
    "%load_ext sql\n",
    "%sql sqlite:///Jobs.db"
   ]
  },
  {
   "cell_type": "code",
   "execution_count": null,
   "id": "39f8161e",
   "metadata": {},
   "outputs": [],
   "source": []
  },
  {
   "attachments": {},
   "cell_type": "markdown",
   "id": "d1647252",
   "metadata": {},
   "source": [
    "## SQL Queries"
   ]
  },
  {
   "cell_type": "code",
   "execution_count": 5,
   "id": "ac9d7dab",
   "metadata": {
    "vscode": {
     "languageId": "sql"
    }
   },
   "outputs": [
    {
     "name": "stdout",
     "output_type": "stream",
     "text": [
      " * sqlite:///Jobs.db\n",
      "Done.\n"
     ]
    },
    {
     "data": {
      "text/html": [
       "<table>\n",
       "    <thead>\n",
       "        <tr>\n",
       "            <th>index</th>\n",
       "            <th>Rank</th>\n",
       "            <th>Major_code</th>\n",
       "            <th>Major</th>\n",
       "            <th>Major_category</th>\n",
       "            <th>Total</th>\n",
       "            <th>Sample_size</th>\n",
       "            <th>Men</th>\n",
       "            <th>Women</th>\n",
       "            <th>ShareWomen</th>\n",
       "            <th>Employed</th>\n",
       "            <th>Full_time</th>\n",
       "            <th>Part_time</th>\n",
       "            <th>Full_time_year_round</th>\n",
       "            <th>Unemployed</th>\n",
       "            <th>Unemployment_rate</th>\n",
       "            <th>Median</th>\n",
       "            <th>P25th</th>\n",
       "            <th>P75th</th>\n",
       "            <th>College_jobs</th>\n",
       "            <th>Non_college_jobs</th>\n",
       "            <th>Low_wage_jobs</th>\n",
       "        </tr>\n",
       "    </thead>\n",
       "    <tbody>\n",
       "        <tr>\n",
       "            <td>0</td>\n",
       "            <td>1</td>\n",
       "            <td>2419</td>\n",
       "            <td>PETROLEUM ENGINEERING</td>\n",
       "            <td>Engineering</td>\n",
       "            <td>2339</td>\n",
       "            <td>36</td>\n",
       "            <td>2057</td>\n",
       "            <td>282</td>\n",
       "            <td>0.120564344</td>\n",
       "            <td>1976</td>\n",
       "            <td>1849</td>\n",
       "            <td>270</td>\n",
       "            <td>1207</td>\n",
       "            <td>37</td>\n",
       "            <td>0.018380527</td>\n",
       "            <td>110000</td>\n",
       "            <td>95000</td>\n",
       "            <td>125000</td>\n",
       "            <td>1534</td>\n",
       "            <td>364</td>\n",
       "            <td>193</td>\n",
       "        </tr>\n",
       "        <tr>\n",
       "            <td>1</td>\n",
       "            <td>2</td>\n",
       "            <td>2416</td>\n",
       "            <td>MINING AND MINERAL ENGINEERING</td>\n",
       "            <td>Engineering</td>\n",
       "            <td>756</td>\n",
       "            <td>7</td>\n",
       "            <td>679</td>\n",
       "            <td>77</td>\n",
       "            <td>0.10185185199999999</td>\n",
       "            <td>640</td>\n",
       "            <td>556</td>\n",
       "            <td>170</td>\n",
       "            <td>388</td>\n",
       "            <td>85</td>\n",
       "            <td>0.117241379</td>\n",
       "            <td>75000</td>\n",
       "            <td>55000</td>\n",
       "            <td>90000</td>\n",
       "            <td>350</td>\n",
       "            <td>257</td>\n",
       "            <td>50</td>\n",
       "        </tr>\n",
       "        <tr>\n",
       "            <td>2</td>\n",
       "            <td>3</td>\n",
       "            <td>2415</td>\n",
       "            <td>METALLURGICAL ENGINEERING</td>\n",
       "            <td>Engineering</td>\n",
       "            <td>856</td>\n",
       "            <td>3</td>\n",
       "            <td>725</td>\n",
       "            <td>131</td>\n",
       "            <td>0.153037383</td>\n",
       "            <td>648</td>\n",
       "            <td>558</td>\n",
       "            <td>133</td>\n",
       "            <td>340</td>\n",
       "            <td>16</td>\n",
       "            <td>0.024096386</td>\n",
       "            <td>73000</td>\n",
       "            <td>50000</td>\n",
       "            <td>105000</td>\n",
       "            <td>456</td>\n",
       "            <td>176</td>\n",
       "            <td>0</td>\n",
       "        </tr>\n",
       "        <tr>\n",
       "            <td>3</td>\n",
       "            <td>4</td>\n",
       "            <td>2417</td>\n",
       "            <td>NAVAL ARCHITECTURE AND MARINE ENGINEERING</td>\n",
       "            <td>Engineering</td>\n",
       "            <td>1258</td>\n",
       "            <td>16</td>\n",
       "            <td>1123</td>\n",
       "            <td>135</td>\n",
       "            <td>0.107313196</td>\n",
       "            <td>758</td>\n",
       "            <td>1069</td>\n",
       "            <td>150</td>\n",
       "            <td>692</td>\n",
       "            <td>40</td>\n",
       "            <td>0.050125313</td>\n",
       "            <td>70000</td>\n",
       "            <td>43000</td>\n",
       "            <td>80000</td>\n",
       "            <td>529</td>\n",
       "            <td>102</td>\n",
       "            <td>0</td>\n",
       "        </tr>\n",
       "        <tr>\n",
       "            <td>4</td>\n",
       "            <td>5</td>\n",
       "            <td>2405</td>\n",
       "            <td>CHEMICAL ENGINEERING</td>\n",
       "            <td>Engineering</td>\n",
       "            <td>32260</td>\n",
       "            <td>289</td>\n",
       "            <td>21239</td>\n",
       "            <td>11021</td>\n",
       "            <td>0.341630502</td>\n",
       "            <td>25694</td>\n",
       "            <td>23170</td>\n",
       "            <td>5180</td>\n",
       "            <td>16697</td>\n",
       "            <td>1672</td>\n",
       "            <td>0.061097712</td>\n",
       "            <td>65000</td>\n",
       "            <td>50000</td>\n",
       "            <td>75000</td>\n",
       "            <td>18314</td>\n",
       "            <td>4440</td>\n",
       "            <td>972</td>\n",
       "        </tr>\n",
       "    </tbody>\n",
       "</table>"
      ],
      "text/plain": [
       "[(0, 1, 2419, 'PETROLEUM ENGINEERING', 'Engineering', 2339, 36, 2057, 282, 0.120564344, 1976, 1849, 270, 1207, 37, 0.018380527, 110000, 95000, 125000, 1534, 364, 193),\n",
       " (1, 2, 2416, 'MINING AND MINERAL ENGINEERING', 'Engineering', 756, 7, 679, 77, 0.10185185199999999, 640, 556, 170, 388, 85, 0.117241379, 75000, 55000, 90000, 350, 257, 50),\n",
       " (2, 3, 2415, 'METALLURGICAL ENGINEERING', 'Engineering', 856, 3, 725, 131, 0.153037383, 648, 558, 133, 340, 16, 0.024096386, 73000, 50000, 105000, 456, 176, 0),\n",
       " (3, 4, 2417, 'NAVAL ARCHITECTURE AND MARINE ENGINEERING', 'Engineering', 1258, 16, 1123, 135, 0.107313196, 758, 1069, 150, 692, 40, 0.050125313, 70000, 43000, 80000, 529, 102, 0),\n",
       " (4, 5, 2405, 'CHEMICAL ENGINEERING', 'Engineering', 32260, 289, 21239, 11021, 0.341630502, 25694, 23170, 5180, 16697, 1672, 0.061097712, 65000, 50000, 75000, 18314, 4440, 972)]"
      ]
     },
     "execution_count": 5,
     "metadata": {},
     "output_type": "execute_result"
    }
   ],
   "source": [
    "%%sql\n",
    "\n",
    "/* retrieving the full data, showing only first 5 rows */\n",
    "\n",
    "SELECT *\n",
    "    FROM recent_grads\n",
    "    LIMIT 5;"
   ]
  },
  {
   "cell_type": "code",
   "execution_count": 4,
   "id": "2518478a",
   "metadata": {
    "vscode": {
     "languageId": "sql"
    }
   },
   "outputs": [
    {
     "name": "stdout",
     "output_type": "stream",
     "text": [
      " * sqlite:///Jobs.db\n",
      "Done.\n"
     ]
    },
    {
     "data": {
      "text/html": [
       "<table>\n",
       "    <thead>\n",
       "        <tr>\n",
       "            <th>Major</th>\n",
       "            <th>Total</th>\n",
       "            <th>Employed</th>\n",
       "        </tr>\n",
       "    </thead>\n",
       "    <tbody>\n",
       "        <tr>\n",
       "            <td>PETROLEUM ENGINEERING</td>\n",
       "            <td>2339</td>\n",
       "            <td>1976</td>\n",
       "        </tr>\n",
       "        <tr>\n",
       "            <td>MINING AND MINERAL ENGINEERING</td>\n",
       "            <td>756</td>\n",
       "            <td>640</td>\n",
       "        </tr>\n",
       "        <tr>\n",
       "            <td>METALLURGICAL ENGINEERING</td>\n",
       "            <td>856</td>\n",
       "            <td>648</td>\n",
       "        </tr>\n",
       "        <tr>\n",
       "            <td>NAVAL ARCHITECTURE AND MARINE ENGINEERING</td>\n",
       "            <td>1258</td>\n",
       "            <td>758</td>\n",
       "        </tr>\n",
       "        <tr>\n",
       "            <td>CHEMICAL ENGINEERING</td>\n",
       "            <td>32260</td>\n",
       "            <td>25694</td>\n",
       "        </tr>\n",
       "    </tbody>\n",
       "</table>"
      ],
      "text/plain": [
       "[('PETROLEUM ENGINEERING', 2339, 1976),\n",
       " ('MINING AND MINERAL ENGINEERING', 756, 640),\n",
       " ('METALLURGICAL ENGINEERING', 856, 648),\n",
       " ('NAVAL ARCHITECTURE AND MARINE ENGINEERING', 1258, 758),\n",
       " ('CHEMICAL ENGINEERING', 32260, 25694)]"
      ]
     },
     "execution_count": 4,
     "metadata": {},
     "output_type": "execute_result"
    }
   ],
   "source": [
    "%%sql\n",
    " /* selecting individual columns */\n",
    "    \n",
    "    SELECT Major,Total,Employed\n",
    "          FROM recent_grads\n",
    "          LIMIT 5;"
   ]
  },
  {
   "cell_type": "code",
   "execution_count": 6,
   "id": "f7b11025",
   "metadata": {
    "vscode": {
     "languageId": "sql"
    }
   },
   "outputs": [
    {
     "name": "stdout",
     "output_type": "stream",
     "text": [
      " * sqlite:///Jobs.db\n",
      "Done.\n"
     ]
    },
    {
     "data": {
      "text/html": [
       "<table>\n",
       "    <thead>\n",
       "        <tr>\n",
       "            <th>Major</th>\n",
       "            <th>Major_category</th>\n",
       "        </tr>\n",
       "    </thead>\n",
       "    <tbody>\n",
       "        <tr>\n",
       "            <td>MINING AND MINERAL ENGINEERING</td>\n",
       "            <td>Engineering</td>\n",
       "        </tr>\n",
       "        <tr>\n",
       "            <td>METALLURGICAL ENGINEERING</td>\n",
       "            <td>Engineering</td>\n",
       "        </tr>\n",
       "        <tr>\n",
       "            <td>GEOLOGICAL AND GEOPHYSICAL ENGINEERING</td>\n",
       "            <td>Engineering</td>\n",
       "        </tr>\n",
       "        <tr>\n",
       "            <td>MATHEMATICS AND COMPUTER SCIENCE</td>\n",
       "            <td>Computers &amp; Mathematics</td>\n",
       "        </tr>\n",
       "        <tr>\n",
       "            <td>SCHOOL STUDENT COUNSELING</td>\n",
       "            <td>Education</td>\n",
       "        </tr>\n",
       "        <tr>\n",
       "            <td>MILITARY TECHNOLOGIES</td>\n",
       "            <td>Industrial Arts &amp; Consumer Services</td>\n",
       "        </tr>\n",
       "        <tr>\n",
       "            <td>SOIL SCIENCE</td>\n",
       "            <td>Agriculture &amp; Natural Resources</td>\n",
       "        </tr>\n",
       "        <tr>\n",
       "            <td>EDUCATIONAL ADMINISTRATION AND SUPERVISION</td>\n",
       "            <td>Education</td>\n",
       "        </tr>\n",
       "    </tbody>\n",
       "</table>"
      ],
      "text/plain": [
       "[('MINING AND MINERAL ENGINEERING', 'Engineering'),\n",
       " ('METALLURGICAL ENGINEERING', 'Engineering'),\n",
       " ('GEOLOGICAL AND GEOPHYSICAL ENGINEERING', 'Engineering'),\n",
       " ('MATHEMATICS AND COMPUTER SCIENCE', 'Computers & Mathematics'),\n",
       " ('SCHOOL STUDENT COUNSELING', 'Education'),\n",
       " ('MILITARY TECHNOLOGIES', 'Industrial Arts & Consumer Services'),\n",
       " ('SOIL SCIENCE', 'Agriculture & Natural Resources'),\n",
       " ('EDUCATIONAL ADMINISTRATION AND SUPERVISION', 'Education')]"
      ]
     },
     "execution_count": 6,
     "metadata": {},
     "output_type": "execute_result"
    }
   ],
   "source": [
    "%%sql\n",
    "\n",
    "/* filter rows that meet a particular criteria */\n",
    "\n",
    "SELECT Major,Major_Category\n",
    "     FROM recent_grads\n",
    "     WHERE total<1000;"
   ]
  },
  {
   "cell_type": "code",
   "execution_count": 7,
   "id": "55cb0c84",
   "metadata": {
    "vscode": {
     "languageId": "sql"
    }
   },
   "outputs": [
    {
     "name": "stdout",
     "output_type": "stream",
     "text": [
      " * sqlite:///Jobs.db\n",
      "Done.\n"
     ]
    },
    {
     "data": {
      "text/html": [
       "<table>\n",
       "    <thead>\n",
       "        <tr>\n",
       "            <th>Major</th>\n",
       "            <th>Total</th>\n",
       "            <th>ShareWomen</th>\n",
       "        </tr>\n",
       "    </thead>\n",
       "    <tbody>\n",
       "        <tr>\n",
       "            <td>MOLECULAR BIOLOGY</td>\n",
       "            <td>18300</td>\n",
       "            <td>0.07745302700000001</td>\n",
       "        </tr>\n",
       "        <tr>\n",
       "            <td>NEUROSCIENCE</td>\n",
       "            <td>13663</td>\n",
       "            <td>0.47501047</td>\n",
       "        </tr>\n",
       "    </tbody>\n",
       "</table>"
      ],
      "text/plain": [
       "[('MOLECULAR BIOLOGY', 18300, 0.07745302700000001),\n",
       " ('NEUROSCIENCE', 13663, 0.47501047)]"
      ]
     },
     "execution_count": 7,
     "metadata": {},
     "output_type": "execute_result"
    }
   ],
   "source": [
    "%%sql\n",
    "\n",
    "/* using multiple criteria */\n",
    "\n",
    "SELECT Major,Total,ShareWomen\n",
    "    FROM recent_grads\n",
    "    WHERE Major_Category=\"Biology & Life Science\" AND ShareWomen<0.5;"
   ]
  },
  {
   "cell_type": "code",
   "execution_count": 8,
   "id": "e9eadf31",
   "metadata": {
    "vscode": {
     "languageId": "sql"
    }
   },
   "outputs": [
    {
     "name": "stdout",
     "output_type": "stream",
     "text": [
      " * sqlite:///Jobs.db\n",
      "Done.\n"
     ]
    },
    {
     "data": {
      "text/html": [
       "<table>\n",
       "    <thead>\n",
       "        <tr>\n",
       "            <th>Major</th>\n",
       "        </tr>\n",
       "    </thead>\n",
       "    <tbody>\n",
       "        <tr>\n",
       "            <td>PETROLEUM ENGINEERING</td>\n",
       "        </tr>\n",
       "        <tr>\n",
       "            <td>MINING AND MINERAL ENGINEERING</td>\n",
       "        </tr>\n",
       "        <tr>\n",
       "            <td>METALLURGICAL ENGINEERING</td>\n",
       "        </tr>\n",
       "        <tr>\n",
       "            <td>NAVAL ARCHITECTURE AND MARINE ENGINEERING</td>\n",
       "        </tr>\n",
       "        <tr>\n",
       "            <td>CHEMICAL ENGINEERING</td>\n",
       "        </tr>\n",
       "    </tbody>\n",
       "</table>"
      ],
      "text/plain": [
       "[('PETROLEUM ENGINEERING',),\n",
       " ('MINING AND MINERAL ENGINEERING',),\n",
       " ('METALLURGICAL ENGINEERING',),\n",
       " ('NAVAL ARCHITECTURE AND MARINE ENGINEERING',),\n",
       " ('CHEMICAL ENGINEERING',)]"
      ]
     },
     "execution_count": 8,
     "metadata": {},
     "output_type": "execute_result"
    }
   ],
   "source": [
    "%%sql\n",
    "\n",
    "SELECT Major\n",
    "      FROM recent_grads\n",
    "      WHERE Median > 10000 OR ShareWomen < 0.5\n",
    "      LIMIT 5;"
   ]
  },
  {
   "cell_type": "code",
   "execution_count": 9,
   "id": "0e436229",
   "metadata": {
    "vscode": {
     "languageId": "sql"
    }
   },
   "outputs": [
    {
     "name": "stdout",
     "output_type": "stream",
     "text": [
      " * sqlite:///Jobs.db\n",
      "Done.\n"
     ]
    },
    {
     "data": {
      "text/html": [
       "<table>\n",
       "    <thead>\n",
       "        <tr>\n",
       "            <th>Major</th>\n",
       "            <th>Major_category</th>\n",
       "            <th>Unemployed</th>\n",
       "        </tr>\n",
       "    </thead>\n",
       "    <tbody>\n",
       "        <tr>\n",
       "            <td>MATHEMATICS AND COMPUTER SCIENCE</td>\n",
       "            <td>Computers &amp; Mathematics</td>\n",
       "            <td>0</td>\n",
       "        </tr>\n",
       "        <tr>\n",
       "            <td>MILITARY TECHNOLOGIES</td>\n",
       "            <td>Industrial Arts &amp; Consumer Services</td>\n",
       "            <td>0</td>\n",
       "        </tr>\n",
       "        <tr>\n",
       "            <td>BOTANY</td>\n",
       "            <td>Biology &amp; Life Science</td>\n",
       "            <td>0</td>\n",
       "        </tr>\n",
       "        <tr>\n",
       "            <td>SOIL SCIENCE</td>\n",
       "            <td>Agriculture &amp; Natural Resources</td>\n",
       "            <td>0</td>\n",
       "        </tr>\n",
       "        <tr>\n",
       "            <td>EDUCATIONAL ADMINISTRATION AND SUPERVISION</td>\n",
       "            <td>Education</td>\n",
       "            <td>0</td>\n",
       "        </tr>\n",
       "        <tr>\n",
       "            <td>COURT REPORTING</td>\n",
       "            <td>Law &amp; Public Policy</td>\n",
       "            <td>11</td>\n",
       "        </tr>\n",
       "        <tr>\n",
       "            <td>METALLURGICAL ENGINEERING</td>\n",
       "            <td>Engineering</td>\n",
       "            <td>16</td>\n",
       "        </tr>\n",
       "        <tr>\n",
       "            <td>ENGINEERING MECHANICS PHYSICS AND SCIENCE</td>\n",
       "            <td>Engineering</td>\n",
       "            <td>23</td>\n",
       "        </tr>\n",
       "        <tr>\n",
       "            <td>ASTRONOMY AND ASTROPHYSICS</td>\n",
       "            <td>Physical Sciences</td>\n",
       "            <td>33</td>\n",
       "        </tr>\n",
       "        <tr>\n",
       "            <td>SOCIAL PSYCHOLOGY</td>\n",
       "            <td>Psychology &amp; Social Work</td>\n",
       "            <td>33</td>\n",
       "        </tr>\n",
       "    </tbody>\n",
       "</table>"
      ],
      "text/plain": [
       "[('MATHEMATICS AND COMPUTER SCIENCE', 'Computers & Mathematics', 0),\n",
       " ('MILITARY TECHNOLOGIES', 'Industrial Arts & Consumer Services', 0),\n",
       " ('BOTANY', 'Biology & Life Science', 0),\n",
       " ('SOIL SCIENCE', 'Agriculture & Natural Resources', 0),\n",
       " ('EDUCATIONAL ADMINISTRATION AND SUPERVISION', 'Education', 0),\n",
       " ('COURT REPORTING', 'Law & Public Policy', 11),\n",
       " ('METALLURGICAL ENGINEERING', 'Engineering', 16),\n",
       " ('ENGINEERING MECHANICS PHYSICS AND SCIENCE', 'Engineering', 23),\n",
       " ('ASTRONOMY AND ASTROPHYSICS', 'Physical Sciences', 33),\n",
       " ('SOCIAL PSYCHOLOGY', 'Psychology & Social Work', 33)]"
      ]
     },
     "execution_count": 9,
     "metadata": {},
     "output_type": "execute_result"
    }
   ],
   "source": [
    "%%sql\n",
    "\n",
    "/* ordering results */\n",
    "\n",
    "SELECT Major,Major_Category,Unemployed\n",
    "       FROM recent_grads\n",
    "       ORDER BY Unemployed\n",
    "       LIMIT 10;"
   ]
  },
  {
   "cell_type": "code",
   "execution_count": 11,
   "id": "d24f1ee2",
   "metadata": {
    "vscode": {
     "languageId": "sql"
    }
   },
   "outputs": [
    {
     "name": "stdout",
     "output_type": "stream",
     "text": [
      " * sqlite:///Jobs.db\n",
      "Done.\n"
     ]
    },
    {
     "data": {
      "text/html": [
       "<table>\n",
       "    <thead>\n",
       "        <tr>\n",
       "            <th>Major</th>\n",
       "            <th>Major_category</th>\n",
       "            <th>Unemployed</th>\n",
       "        </tr>\n",
       "    </thead>\n",
       "    <tbody>\n",
       "        <tr>\n",
       "            <td>PSYCHOLOGY</td>\n",
       "            <td>Psychology &amp; Social Work</td>\n",
       "            <td>28169</td>\n",
       "        </tr>\n",
       "        <tr>\n",
       "            <td>BUSINESS MANAGEMENT AND ADMINISTRATION</td>\n",
       "            <td>Business</td>\n",
       "            <td>21502</td>\n",
       "        </tr>\n",
       "        <tr>\n",
       "            <td>POLITICAL SCIENCE AND GOVERNMENT</td>\n",
       "            <td>Social Science</td>\n",
       "            <td>15022</td>\n",
       "        </tr>\n",
       "        <tr>\n",
       "            <td>GENERAL BUSINESS</td>\n",
       "            <td>Business</td>\n",
       "            <td>14946</td>\n",
       "        </tr>\n",
       "        <tr>\n",
       "            <td>COMMUNICATIONS</td>\n",
       "            <td>Communications &amp; Journalism</td>\n",
       "            <td>14602</td>\n",
       "        </tr>\n",
       "        <tr>\n",
       "            <td>ENGLISH LANGUAGE AND LITERATURE</td>\n",
       "            <td>Humanities &amp; Liberal Arts</td>\n",
       "            <td>14345</td>\n",
       "        </tr>\n",
       "        <tr>\n",
       "            <td>BIOLOGY</td>\n",
       "            <td>Biology &amp; Life Science</td>\n",
       "            <td>13874</td>\n",
       "        </tr>\n",
       "        <tr>\n",
       "            <td>ACCOUNTING</td>\n",
       "            <td>Business</td>\n",
       "            <td>12411</td>\n",
       "        </tr>\n",
       "        <tr>\n",
       "            <td>MARKETING AND MARKETING RESEARCH</td>\n",
       "            <td>Business</td>\n",
       "            <td>11663</td>\n",
       "        </tr>\n",
       "        <tr>\n",
       "            <td>ECONOMICS</td>\n",
       "            <td>Social Science</td>\n",
       "            <td>11452</td>\n",
       "        </tr>\n",
       "    </tbody>\n",
       "</table>"
      ],
      "text/plain": [
       "[('PSYCHOLOGY', 'Psychology & Social Work', 28169),\n",
       " ('BUSINESS MANAGEMENT AND ADMINISTRATION', 'Business', 21502),\n",
       " ('POLITICAL SCIENCE AND GOVERNMENT', 'Social Science', 15022),\n",
       " ('GENERAL BUSINESS', 'Business', 14946),\n",
       " ('COMMUNICATIONS', 'Communications & Journalism', 14602),\n",
       " ('ENGLISH LANGUAGE AND LITERATURE', 'Humanities & Liberal Arts', 14345),\n",
       " ('BIOLOGY', 'Biology & Life Science', 13874),\n",
       " ('ACCOUNTING', 'Business', 12411),\n",
       " ('MARKETING AND MARKETING RESEARCH', 'Business', 11663),\n",
       " ('ECONOMICS', 'Social Science', 11452)]"
      ]
     },
     "execution_count": 11,
     "metadata": {},
     "output_type": "execute_result"
    }
   ],
   "source": [
    "%%sql\n",
    "\n",
    "/* ordering results in descending order */\n",
    "\n",
    "SELECT Major,Major_Category,Unemployed\n",
    "       FROM recent_grads\n",
    "       ORDER BY Unemployed DESC\n",
    "       LIMIT 10;"
   ]
  },
  {
   "cell_type": "code",
   "execution_count": 10,
   "id": "3fef242a",
   "metadata": {
    "vscode": {
     "languageId": "sql"
    }
   },
   "outputs": [
    {
     "name": "stdout",
     "output_type": "stream",
     "text": [
      " * sqlite:///Jobs.db\n",
      "Done.\n"
     ]
    },
    {
     "data": {
      "text/html": [
       "<table>\n",
       "    <thead>\n",
       "        <tr>\n",
       "            <th>Major</th>\n",
       "            <th>Major_category</th>\n",
       "            <th>Unemployment_rate</th>\n",
       "        </tr>\n",
       "    </thead>\n",
       "    <tbody>\n",
       "        <tr>\n",
       "            <td>CLINICAL PSYCHOLOGY</td>\n",
       "            <td>Psychology &amp; Social Work</td>\n",
       "            <td>0.14904819800000002</td>\n",
       "        </tr>\n",
       "        <tr>\n",
       "            <td>COMMUNICATION TECHNOLOGIES</td>\n",
       "            <td>Computers &amp; Mathematics</td>\n",
       "            <td>0.11951146900000001</td>\n",
       "        </tr>\n",
       "        <tr>\n",
       "            <td>COMMUNITY AND PUBLIC HEALTH</td>\n",
       "            <td>Health</td>\n",
       "            <td>0.112144387</td>\n",
       "        </tr>\n",
       "        <tr>\n",
       "            <td>SCHOOL STUDENT COUNSELING</td>\n",
       "            <td>Education</td>\n",
       "            <td>0.10757946199999999</td>\n",
       "        </tr>\n",
       "        <tr>\n",
       "            <td>OTHER FOREIGN LANGUAGES</td>\n",
       "            <td>Humanities &amp; Liberal Arts</td>\n",
       "            <td>0.107115726</td>\n",
       "        </tr>\n",
       "        <tr>\n",
       "            <td>FILM VIDEO AND PHOTOGRAPHIC ARTS</td>\n",
       "            <td>Arts</td>\n",
       "            <td>0.10577224</td>\n",
       "        </tr>\n",
       "        <tr>\n",
       "            <td>LIBRARY SCIENCE</td>\n",
       "            <td>Education</td>\n",
       "            <td>0.10494571800000001</td>\n",
       "        </tr>\n",
       "        <tr>\n",
       "            <td>LINGUISTICS AND COMPARATIVE LANGUAGE AND LITERATURE</td>\n",
       "            <td>Humanities &amp; Liberal Arts</td>\n",
       "            <td>0.10443571</td>\n",
       "        </tr>\n",
       "        <tr>\n",
       "            <td>GENERAL SOCIAL SCIENCES</td>\n",
       "            <td>Social Science</td>\n",
       "            <td>0.103454715</td>\n",
       "        </tr>\n",
       "        <tr>\n",
       "            <td>ANTHROPOLOGY AND ARCHEOLOGY</td>\n",
       "            <td>Humanities &amp; Liberal Arts</td>\n",
       "            <td>0.102791571</td>\n",
       "        </tr>\n",
       "    </tbody>\n",
       "</table>"
      ],
      "text/plain": [
       "[('CLINICAL PSYCHOLOGY', 'Psychology & Social Work', 0.14904819800000002),\n",
       " ('COMMUNICATION TECHNOLOGIES', 'Computers & Mathematics', 0.11951146900000001),\n",
       " ('COMMUNITY AND PUBLIC HEALTH', 'Health', 0.112144387),\n",
       " ('SCHOOL STUDENT COUNSELING', 'Education', 0.10757946199999999),\n",
       " ('OTHER FOREIGN LANGUAGES', 'Humanities & Liberal Arts', 0.107115726),\n",
       " ('FILM VIDEO AND PHOTOGRAPHIC ARTS', 'Arts', 0.10577224),\n",
       " ('LIBRARY SCIENCE', 'Education', 0.10494571800000001),\n",
       " ('LINGUISTICS AND COMPARATIVE LANGUAGE AND LITERATURE', 'Humanities & Liberal Arts', 0.10443571),\n",
       " ('GENERAL SOCIAL SCIENCES', 'Social Science', 0.103454715),\n",
       " ('ANTHROPOLOGY AND ARCHEOLOGY', 'Humanities & Liberal Arts', 0.102791571)]"
      ]
     },
     "execution_count": 10,
     "metadata": {},
     "output_type": "execute_result"
    }
   ],
   "source": [
    "%%sql\n",
    "\n",
    "/* Exercise */\n",
    "\n",
    "SELECT Major,Major_Category,Unemployment_Rate\n",
    "       FROM recent_grads\n",
    "       WHERE ShareWomen > 0.5\n",
    "       ORDER BY Unemployment_Rate DESC\n",
    "       LIMIT 10;"
   ]
  }
 ],
 "metadata": {
  "kernelspec": {
   "display_name": "Python 3 (ipykernel)",
   "language": "python",
   "name": "python3"
  },
  "language_info": {
   "codemirror_mode": {
    "name": "ipython",
    "version": 3
   },
   "file_extension": ".py",
   "mimetype": "text/x-python",
   "name": "python",
   "nbconvert_exporter": "python",
   "pygments_lexer": "ipython3",
   "version": "3.9.16"
  }
 },
 "nbformat": 4,
 "nbformat_minor": 5
}
