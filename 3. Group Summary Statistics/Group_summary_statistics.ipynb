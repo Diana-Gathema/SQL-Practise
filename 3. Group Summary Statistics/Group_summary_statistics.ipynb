{
 "cells": [
  {
   "attachments": {},
   "cell_type": "markdown",
   "metadata": {},
   "source": [
    "## Group Summary Statistics"
   ]
  },
  {
   "cell_type": "code",
   "execution_count": 1,
   "metadata": {
    "vscode": {
     "languageId": "sql"
    }
   },
   "outputs": [
    {
     "name": "stdout",
     "output_type": "stream",
     "text": [
      "Requirement already satisfied: ipython-sql in c:\\programdata\\anaconda3\\envs\\myenv\\lib\\site-packages (0.5.0)\n",
      "Requirement already satisfied: prettytable in c:\\programdata\\anaconda3\\envs\\myenv\\lib\\site-packages (from ipython-sql) (3.7.0)\n",
      "Requirement already satisfied: sqlparse in c:\\programdata\\anaconda3\\envs\\myenv\\lib\\site-packages (from ipython-sql) (0.4.4)\n",
      "Requirement already satisfied: ipython-genutils in c:\\programdata\\anaconda3\\envs\\myenv\\lib\\site-packages (from ipython-sql) (0.2.0)\n",
      "Requirement already satisfied: sqlalchemy>=2.0 in c:\\programdata\\anaconda3\\envs\\myenv\\lib\\site-packages (from ipython-sql) (2.0.12)\n",
      "Requirement already satisfied: six in c:\\programdata\\anaconda3\\envs\\myenv\\lib\\site-packages (from ipython-sql) (1.16.0)\n",
      "Requirement already satisfied: ipython in c:\\programdata\\anaconda3\\envs\\myenv\\lib\\site-packages (from ipython-sql) (8.13.2)\n",
      "Requirement already satisfied: greenlet!=0.4.17 in c:\\programdata\\anaconda3\\envs\\myenv\\lib\\site-packages (from sqlalchemy>=2.0->ipython-sql) (2.0.2)\n",
      "Requirement already satisfied: typing-extensions>=4.2.0 in c:\\programdata\\anaconda3\\envs\\myenv\\lib\\site-packages (from sqlalchemy>=2.0->ipython-sql) (4.5.0)\n",
      "Requirement already satisfied: colorama in c:\\programdata\\anaconda3\\envs\\myenv\\lib\\site-packages (from ipython->ipython-sql) (0.4.6)\n",
      "Requirement already satisfied: backcall in c:\\programdata\\anaconda3\\envs\\myenv\\lib\\site-packages (from ipython->ipython-sql) (0.2.0)\n",
      "Requirement already satisfied: jedi>=0.16 in c:\\programdata\\anaconda3\\envs\\myenv\\lib\\site-packages (from ipython->ipython-sql) (0.18.2)\n",
      "Requirement already satisfied: stack-data in c:\\programdata\\anaconda3\\envs\\myenv\\lib\\site-packages (from ipython->ipython-sql) (0.6.2)\n",
      "Requirement already satisfied: matplotlib-inline in c:\\programdata\\anaconda3\\envs\\myenv\\lib\\site-packages (from ipython->ipython-sql) (0.1.6)\n",
      "Requirement already satisfied: decorator in c:\\programdata\\anaconda3\\envs\\myenv\\lib\\site-packages (from ipython->ipython-sql) (5.1.1)\n",
      "Requirement already satisfied: prompt-toolkit!=3.0.37,<3.1.0,>=3.0.30 in c:\\programdata\\anaconda3\\envs\\myenv\\lib\\site-packages (from ipython->ipython-sql) (3.0.38)\n",
      "Requirement already satisfied: pickleshare in c:\\programdata\\anaconda3\\envs\\myenv\\lib\\site-packages (from ipython->ipython-sql) (0.7.5)\n",
      "Requirement already satisfied: traitlets>=5 in c:\\programdata\\anaconda3\\envs\\myenv\\lib\\site-packages (from ipython->ipython-sql) (5.9.0)\n",
      "Requirement already satisfied: pygments>=2.4.0 in c:\\programdata\\anaconda3\\envs\\myenv\\lib\\site-packages (from ipython->ipython-sql) (2.15.1)\n",
      "Requirement already satisfied: wcwidth in c:\\programdata\\anaconda3\\envs\\myenv\\lib\\site-packages (from prettytable->ipython-sql) (0.2.6)\n",
      "Requirement already satisfied: parso<0.9.0,>=0.8.0 in c:\\programdata\\anaconda3\\envs\\myenv\\lib\\site-packages (from jedi>=0.16->ipython->ipython-sql) (0.8.3)\n",
      "Requirement already satisfied: asttokens>=2.1.0 in c:\\programdata\\anaconda3\\envs\\myenv\\lib\\site-packages (from stack-data->ipython->ipython-sql) (2.2.1)\n",
      "Requirement already satisfied: pure-eval in c:\\programdata\\anaconda3\\envs\\myenv\\lib\\site-packages (from stack-data->ipython->ipython-sql) (0.2.2)\n",
      "Requirement already satisfied: executing>=1.2.0 in c:\\programdata\\anaconda3\\envs\\myenv\\lib\\site-packages (from stack-data->ipython->ipython-sql) (1.2.0)\n"
     ]
    }
   ],
   "source": [
    "!pip install ipython-sql\n"
   ]
  },
  {
   "cell_type": "code",
   "execution_count": 2,
   "metadata": {
    "vscode": {
     "languageId": "sql"
    }
   },
   "outputs": [],
   "source": [
    "%load_ext sql\n",
    "%sql sqlite:///Jobs.db"
   ]
  },
  {
   "cell_type": "code",
   "execution_count": 6,
   "metadata": {
    "vscode": {
     "languageId": "sql"
    }
   },
   "outputs": [
    {
     "name": "stdout",
     "output_type": "stream",
     "text": [
      " * sqlite:///Jobs.db\n",
      "Done.\n"
     ]
    },
    {
     "data": {
      "text/html": [
       "<table>\n",
       "    <thead>\n",
       "        <tr>\n",
       "            <th>Major</th>\n",
       "            <th>Category</th>\n",
       "            <th>MIN (Unemployment_rate)</th>\n",
       "        </tr>\n",
       "    </thead>\n",
       "    <tbody>\n",
       "        <tr>\n",
       "            <td>MATHEMATICS AND COMPUTER SCIENCE</td>\n",
       "            <td>MATHEMATICS AND COMPUTER SCIENCE</td>\n",
       "            <td>0.0</td>\n",
       "        </tr>\n",
       "    </tbody>\n",
       "</table>"
      ],
      "text/plain": [
       "[('MATHEMATICS AND COMPUTER SCIENCE', 'MATHEMATICS AND COMPUTER SCIENCE', 0.0)]"
      ]
     },
     "execution_count": 6,
     "metadata": {},
     "output_type": "execute_result"
    }
   ],
   "source": [
    "%%sql\n",
    "SELECT Major,Major Category, MIN (Unemployment_rate)\n",
    "    FROM recent_grads\n",
    "        LIMIT 10;\n"
   ]
  },
  {
   "cell_type": "code",
   "execution_count": 7,
   "metadata": {},
   "outputs": [
    {
     "name": "stdout",
     "output_type": "stream",
     "text": [
      " * sqlite:///Jobs.db\n",
      "Done.\n"
     ]
    },
    {
     "data": {
      "text/html": [
       "<table>\n",
       "    <thead>\n",
       "        <tr>\n",
       "            <th>index</th>\n",
       "            <th>Rank</th>\n",
       "            <th>Major_code</th>\n",
       "            <th>Major</th>\n",
       "            <th>Major_category</th>\n",
       "            <th>Total</th>\n",
       "            <th>Sample_size</th>\n",
       "            <th>Men</th>\n",
       "            <th>Women</th>\n",
       "            <th>ShareWomen</th>\n",
       "            <th>Employed</th>\n",
       "            <th>Full_time</th>\n",
       "            <th>Part_time</th>\n",
       "            <th>Full_time_year_round</th>\n",
       "            <th>Unemployed</th>\n",
       "            <th>Unemployment_rate</th>\n",
       "            <th>Median</th>\n",
       "            <th>P25th</th>\n",
       "            <th>P75th</th>\n",
       "            <th>College_jobs</th>\n",
       "            <th>Non_college_jobs</th>\n",
       "            <th>Low_wage_jobs</th>\n",
       "        </tr>\n",
       "    </thead>\n",
       "    <tbody>\n",
       "        <tr>\n",
       "            <td>0</td>\n",
       "            <td>1</td>\n",
       "            <td>2419</td>\n",
       "            <td>PETROLEUM ENGINEERING</td>\n",
       "            <td>Engineering</td>\n",
       "            <td>2339</td>\n",
       "            <td>36</td>\n",
       "            <td>2057</td>\n",
       "            <td>282</td>\n",
       "            <td>0.120564344</td>\n",
       "            <td>1976</td>\n",
       "            <td>1849</td>\n",
       "            <td>270</td>\n",
       "            <td>1207</td>\n",
       "            <td>37</td>\n",
       "            <td>0.018380527</td>\n",
       "            <td>110000</td>\n",
       "            <td>95000</td>\n",
       "            <td>125000</td>\n",
       "            <td>1534</td>\n",
       "            <td>364</td>\n",
       "            <td>193</td>\n",
       "        </tr>\n",
       "        <tr>\n",
       "            <td>1</td>\n",
       "            <td>2</td>\n",
       "            <td>2416</td>\n",
       "            <td>MINING AND MINERAL ENGINEERING</td>\n",
       "            <td>Engineering</td>\n",
       "            <td>756</td>\n",
       "            <td>7</td>\n",
       "            <td>679</td>\n",
       "            <td>77</td>\n",
       "            <td>0.10185185199999999</td>\n",
       "            <td>640</td>\n",
       "            <td>556</td>\n",
       "            <td>170</td>\n",
       "            <td>388</td>\n",
       "            <td>85</td>\n",
       "            <td>0.117241379</td>\n",
       "            <td>75000</td>\n",
       "            <td>55000</td>\n",
       "            <td>90000</td>\n",
       "            <td>350</td>\n",
       "            <td>257</td>\n",
       "            <td>50</td>\n",
       "        </tr>\n",
       "        <tr>\n",
       "            <td>2</td>\n",
       "            <td>3</td>\n",
       "            <td>2415</td>\n",
       "            <td>METALLURGICAL ENGINEERING</td>\n",
       "            <td>Engineering</td>\n",
       "            <td>856</td>\n",
       "            <td>3</td>\n",
       "            <td>725</td>\n",
       "            <td>131</td>\n",
       "            <td>0.153037383</td>\n",
       "            <td>648</td>\n",
       "            <td>558</td>\n",
       "            <td>133</td>\n",
       "            <td>340</td>\n",
       "            <td>16</td>\n",
       "            <td>0.024096386</td>\n",
       "            <td>73000</td>\n",
       "            <td>50000</td>\n",
       "            <td>105000</td>\n",
       "            <td>456</td>\n",
       "            <td>176</td>\n",
       "            <td>0</td>\n",
       "        </tr>\n",
       "        <tr>\n",
       "            <td>3</td>\n",
       "            <td>4</td>\n",
       "            <td>2417</td>\n",
       "            <td>NAVAL ARCHITECTURE AND MARINE ENGINEERING</td>\n",
       "            <td>Engineering</td>\n",
       "            <td>1258</td>\n",
       "            <td>16</td>\n",
       "            <td>1123</td>\n",
       "            <td>135</td>\n",
       "            <td>0.107313196</td>\n",
       "            <td>758</td>\n",
       "            <td>1069</td>\n",
       "            <td>150</td>\n",
       "            <td>692</td>\n",
       "            <td>40</td>\n",
       "            <td>0.050125313</td>\n",
       "            <td>70000</td>\n",
       "            <td>43000</td>\n",
       "            <td>80000</td>\n",
       "            <td>529</td>\n",
       "            <td>102</td>\n",
       "            <td>0</td>\n",
       "        </tr>\n",
       "        <tr>\n",
       "            <td>4</td>\n",
       "            <td>5</td>\n",
       "            <td>2405</td>\n",
       "            <td>CHEMICAL ENGINEERING</td>\n",
       "            <td>Engineering</td>\n",
       "            <td>32260</td>\n",
       "            <td>289</td>\n",
       "            <td>21239</td>\n",
       "            <td>11021</td>\n",
       "            <td>0.341630502</td>\n",
       "            <td>25694</td>\n",
       "            <td>23170</td>\n",
       "            <td>5180</td>\n",
       "            <td>16697</td>\n",
       "            <td>1672</td>\n",
       "            <td>0.061097712</td>\n",
       "            <td>65000</td>\n",
       "            <td>50000</td>\n",
       "            <td>75000</td>\n",
       "            <td>18314</td>\n",
       "            <td>4440</td>\n",
       "            <td>972</td>\n",
       "        </tr>\n",
       "    </tbody>\n",
       "</table>"
      ],
      "text/plain": [
       "[(0, 1, 2419, 'PETROLEUM ENGINEERING', 'Engineering', 2339, 36, 2057, 282, 0.120564344, 1976, 1849, 270, 1207, 37, 0.018380527, 110000, 95000, 125000, 1534, 364, 193),\n",
       " (1, 2, 2416, 'MINING AND MINERAL ENGINEERING', 'Engineering', 756, 7, 679, 77, 0.10185185199999999, 640, 556, 170, 388, 85, 0.117241379, 75000, 55000, 90000, 350, 257, 50),\n",
       " (2, 3, 2415, 'METALLURGICAL ENGINEERING', 'Engineering', 856, 3, 725, 131, 0.153037383, 648, 558, 133, 340, 16, 0.024096386, 73000, 50000, 105000, 456, 176, 0),\n",
       " (3, 4, 2417, 'NAVAL ARCHITECTURE AND MARINE ENGINEERING', 'Engineering', 1258, 16, 1123, 135, 0.107313196, 758, 1069, 150, 692, 40, 0.050125313, 70000, 43000, 80000, 529, 102, 0),\n",
       " (4, 5, 2405, 'CHEMICAL ENGINEERING', 'Engineering', 32260, 289, 21239, 11021, 0.341630502, 25694, 23170, 5180, 16697, 1672, 0.061097712, 65000, 50000, 75000, 18314, 4440, 972)]"
      ]
     },
     "execution_count": 7,
     "metadata": {},
     "output_type": "execute_result"
    }
   ],
   "source": [
    "%%sql\n",
    "SELECT *\n",
    "    FROM recent_grads\n",
    "    LIMIT 5;"
   ]
  },
  {
   "cell_type": "code",
   "execution_count": null,
   "metadata": {},
   "outputs": [],
   "source": []
  },
  {
   "attachments": {},
   "cell_type": "markdown",
   "metadata": {},
   "source": [
    "## IF/THEN LOGIC"
   ]
  },
  {
   "cell_type": "code",
   "execution_count": 15,
   "metadata": {
    "vscode": {
     "languageId": "sql"
    }
   },
   "outputs": [
    {
     "name": "stdout",
     "output_type": "stream",
     "text": [
      " * sqlite:///Jobs.db\n",
      "Done.\n"
     ]
    },
    {
     "data": {
      "text/html": [
       "<table>\n",
       "    <thead>\n",
       "        <tr>\n",
       "            <th>Major_category</th>\n",
       "            <th>Major</th>\n",
       "            <th>ShareWomen</th>\n",
       "            <th>Group</th>\n",
       "        </tr>\n",
       "    </thead>\n",
       "    <tbody>\n",
       "        <tr>\n",
       "            <td>Engineering</td>\n",
       "            <td>PETROLEUM ENGINEERING</td>\n",
       "            <td>0.120564344</td>\n",
       "            <td>Low</td>\n",
       "        </tr>\n",
       "        <tr>\n",
       "            <td>Engineering</td>\n",
       "            <td>MINING AND MINERAL ENGINEERING</td>\n",
       "            <td>0.10185185199999999</td>\n",
       "            <td>Low</td>\n",
       "        </tr>\n",
       "        <tr>\n",
       "            <td>Engineering</td>\n",
       "            <td>METALLURGICAL ENGINEERING</td>\n",
       "            <td>0.153037383</td>\n",
       "            <td>Low</td>\n",
       "        </tr>\n",
       "        <tr>\n",
       "            <td>Engineering</td>\n",
       "            <td>NAVAL ARCHITECTURE AND MARINE ENGINEERING</td>\n",
       "            <td>0.107313196</td>\n",
       "            <td>Low</td>\n",
       "        </tr>\n",
       "        <tr>\n",
       "            <td>Engineering</td>\n",
       "            <td>CHEMICAL ENGINEERING</td>\n",
       "            <td>0.341630502</td>\n",
       "            <td>Medium</td>\n",
       "        </tr>\n",
       "    </tbody>\n",
       "</table>"
      ],
      "text/plain": [
       "[('Engineering', 'PETROLEUM ENGINEERING', 0.120564344, 'Low'),\n",
       " ('Engineering', 'MINING AND MINERAL ENGINEERING', 0.10185185199999999, 'Low'),\n",
       " ('Engineering', 'METALLURGICAL ENGINEERING', 0.153037383, 'Low'),\n",
       " ('Engineering', 'NAVAL ARCHITECTURE AND MARINE ENGINEERING', 0.107313196, 'Low'),\n",
       " ('Engineering', 'CHEMICAL ENGINEERING', 0.341630502, 'Medium')]"
      ]
     },
     "execution_count": 15,
     "metadata": {},
     "output_type": "execute_result"
    }
   ],
   "source": [
    "%%sql\n",
    "SELECT Major_Category, Major,ShareWomen,\n",
    "    CASE\n",
    "        WHEN ShareWomen<0.2 THEN \"Low\"\n",
    "        WHEN ShareWomen<=0.5 THEN \"Medium\"\n",
    "        ELSE \"High\"\n",
    "    END AS \"Group\n",
    "    FROM recent_grads\n",
    "    LIMIT 5;"
   ]
  },
  {
   "cell_type": "code",
   "execution_count": 16,
   "metadata": {
    "vscode": {
     "languageId": "sql"
    }
   },
   "outputs": [
    {
     "name": "stdout",
     "output_type": "stream",
     "text": [
      " * sqlite:///Jobs.db\n",
      "Done.\n"
     ]
    },
    {
     "data": {
      "text/html": [
       "<table>\n",
       "    <thead>\n",
       "        <tr>\n",
       "            <th>Sample_size</th>\n",
       "            <th>Sample_category</th>\n",
       "        </tr>\n",
       "    </thead>\n",
       "    <tbody>\n",
       "        <tr>\n",
       "            <td>36</td>\n",
       "            <td>Small</td>\n",
       "        </tr>\n",
       "        <tr>\n",
       "            <td>7</td>\n",
       "            <td>Small</td>\n",
       "        </tr>\n",
       "        <tr>\n",
       "            <td>3</td>\n",
       "            <td>Small</td>\n",
       "        </tr>\n",
       "        <tr>\n",
       "            <td>16</td>\n",
       "            <td>Small</td>\n",
       "        </tr>\n",
       "        <tr>\n",
       "            <td>289</td>\n",
       "            <td>Medium</td>\n",
       "        </tr>\n",
       "    </tbody>\n",
       "</table>"
      ],
      "text/plain": [
       "[(36, 'Small'), (7, 'Small'), (3, 'Small'), (16, 'Small'), (289, 'Medium')]"
      ]
     },
     "execution_count": 16,
     "metadata": {},
     "output_type": "execute_result"
    }
   ],
   "source": [
    "%%sql\n",
    "SELECT Sample_size,\n",
    "    CASE\n",
    "        WHEN Sample_size<200 THEN \"Small\"\n",
    "        WHEN Sample_size<1000 THEN \"Medium\"\n",
    "        ELSE \"Large\"\n",
    "    END AS Sample_category\n",
    "FROM recent_grads\n",
    "LIMIT 5;"
   ]
  },
  {
   "attachments": {},
   "cell_type": "markdown",
   "metadata": {},
   "source": [
    "\n",
    "## GROUP BY"
   ]
  },
  {
   "cell_type": "code",
   "execution_count": 22,
   "metadata": {
    "vscode": {
     "languageId": "sql"
    }
   },
   "outputs": [
    {
     "name": "stdout",
     "output_type": "stream",
     "text": [
      " * sqlite:///Jobs.db\n",
      "Done.\n"
     ]
    },
    {
     "data": {
      "text/html": [
       "<table>\n",
       "    <thead>\n",
       "        <tr>\n",
       "            <th>Major_category</th>\n",
       "            <th>Total Unemployed</th>\n",
       "        </tr>\n",
       "    </thead>\n",
       "    <tbody>\n",
       "        <tr>\n",
       "            <td>Agriculture &amp; Natural Resources</td>\n",
       "            <td>3824</td>\n",
       "        </tr>\n",
       "        <tr>\n",
       "            <td>Arts</td>\n",
       "            <td>28228</td>\n",
       "        </tr>\n",
       "        <tr>\n",
       "            <td>Biology &amp; Life Science</td>\n",
       "            <td>22854</td>\n",
       "        </tr>\n",
       "        <tr>\n",
       "            <td>Business</td>\n",
       "            <td>79877</td>\n",
       "        </tr>\n",
       "        <tr>\n",
       "            <td>Communications &amp; Journalism</td>\n",
       "            <td>26852</td>\n",
       "        </tr>\n",
       "        <tr>\n",
       "            <td>Computers &amp; Mathematics</td>\n",
       "            <td>18373</td>\n",
       "        </tr>\n",
       "        <tr>\n",
       "            <td>Education</td>\n",
       "            <td>24969</td>\n",
       "        </tr>\n",
       "        <tr>\n",
       "            <td>Engineering</td>\n",
       "            <td>29817</td>\n",
       "        </tr>\n",
       "        <tr>\n",
       "            <td>Health</td>\n",
       "            <td>22213</td>\n",
       "        </tr>\n",
       "        <tr>\n",
       "            <td>Humanities &amp; Liberal Arts</td>\n",
       "            <td>51101</td>\n",
       "        </tr>\n",
       "        <tr>\n",
       "            <td>Industrial Arts &amp; Consumer Services</td>\n",
       "            <td>11526</td>\n",
       "        </tr>\n",
       "        <tr>\n",
       "            <td>Interdisciplinary</td>\n",
       "            <td>749</td>\n",
       "        </tr>\n",
       "        <tr>\n",
       "            <td>Law &amp; Public Policy</td>\n",
       "            <td>13495</td>\n",
       "        </tr>\n",
       "        <tr>\n",
       "            <td>Physical Sciences</td>\n",
       "            <td>7880</td>\n",
       "        </tr>\n",
       "        <tr>\n",
       "            <td>Psychology &amp; Social Work</td>\n",
       "            <td>33292</td>\n",
       "        </tr>\n",
       "        <tr>\n",
       "            <td>Social Science</td>\n",
       "            <td>42975</td>\n",
       "        </tr>\n",
       "    </tbody>\n",
       "</table>"
      ],
      "text/plain": [
       "[('Agriculture & Natural Resources', 3824),\n",
       " ('Arts', 28228),\n",
       " ('Biology & Life Science', 22854),\n",
       " ('Business', 79877),\n",
       " ('Communications & Journalism', 26852),\n",
       " ('Computers & Mathematics', 18373),\n",
       " ('Education', 24969),\n",
       " ('Engineering', 29817),\n",
       " ('Health', 22213),\n",
       " ('Humanities & Liberal Arts', 51101),\n",
       " ('Industrial Arts & Consumer Services', 11526),\n",
       " ('Interdisciplinary', 749),\n",
       " ('Law & Public Policy', 13495),\n",
       " ('Physical Sciences', 7880),\n",
       " ('Psychology & Social Work', 33292),\n",
       " ('Social Science', 42975)]"
      ]
     },
     "execution_count": 22,
     "metadata": {},
     "output_type": "execute_result"
    }
   ],
   "source": [
    "%%sql\n",
    "SELECT  Major_Category,\n",
    "    SUM(Unemployed) AS \"Total Unemployed\"\n",
    "    FROM recent_grads\n",
    "GROUP BY Major_category;"
   ]
  },
  {
   "cell_type": "code",
   "execution_count": 24,
   "metadata": {
    "vscode": {
     "languageId": "sql"
    }
   },
   "outputs": [
    {
     "name": "stdout",
     "output_type": "stream",
     "text": [
      " * sqlite:///Jobs.db\n",
      "Done.\n"
     ]
    },
    {
     "data": {
      "text/html": [
       "<table>\n",
       "    <thead>\n",
       "        <tr>\n",
       "            <th>Major_category</th>\n",
       "            <th>Major</th>\n",
       "            <th>AverageShareWomen</th>\n",
       "        </tr>\n",
       "    </thead>\n",
       "    <tbody>\n",
       "        <tr>\n",
       "            <td>Psychology &amp; Social Work</td>\n",
       "            <td>INDUSTRIAL AND ORGANIZATIONAL PSYCHOLOGY</td>\n",
       "            <td>0.7777631628888888</td>\n",
       "        </tr>\n",
       "    </tbody>\n",
       "</table>"
      ],
      "text/plain": [
       "[('Psychology & Social Work', 'INDUSTRIAL AND ORGANIZATIONAL PSYCHOLOGY', 0.7777631628888888)]"
      ]
     },
     "execution_count": 24,
     "metadata": {},
     "output_type": "execute_result"
    }
   ],
   "source": [
    "%%sql\n",
    "SELECT Major_Category,Major,AVG(ShareWomen) AS AverageShareWomen\n",
    "    FROM recent_grads\n",
    "    GROUP BY Major_Category\n",
    "    HAVING AverageShareWomen >0.7;"
   ]
  },
  {
   "attachments": {},
   "cell_type": "markdown",
   "metadata": {},
   "source": [
    "## CASTING"
   ]
  },
  {
   "attachments": {},
   "cell_type": "markdown",
   "metadata": {},
   "source": [
    "Changing from one data type to another "
   ]
  },
  {
   "cell_type": "code",
   "execution_count": 32,
   "metadata": {
    "vscode": {
     "languageId": "sql"
    }
   },
   "outputs": [
    {
     "name": "stdout",
     "output_type": "stream",
     "text": [
      " * sqlite:///Jobs.db\n",
      "Done.\n"
     ]
    },
    {
     "data": {
      "text/html": [
       "<table>\n",
       "    <thead>\n",
       "        <tr>\n",
       "            <th>Major_category</th>\n",
       "            <th>Total_unemployed</th>\n",
       "            <th>Total_graduates</th>\n",
       "            <th>UnemploymentRate</th>\n",
       "        </tr>\n",
       "    </thead>\n",
       "    <tbody>\n",
       "        <tr>\n",
       "            <td>Agriculture &amp; Natural Resources</td>\n",
       "            <td>3824</td>\n",
       "            <td>79981</td>\n",
       "            <td>4.78</td>\n",
       "        </tr>\n",
       "        <tr>\n",
       "            <td>Arts</td>\n",
       "            <td>28228</td>\n",
       "            <td>357130</td>\n",
       "            <td>7.9</td>\n",
       "        </tr>\n",
       "        <tr>\n",
       "            <td>Biology &amp; Life Science</td>\n",
       "            <td>22854</td>\n",
       "            <td>453862</td>\n",
       "            <td>5.04</td>\n",
       "        </tr>\n",
       "        <tr>\n",
       "            <td>Business</td>\n",
       "            <td>79877</td>\n",
       "            <td>1302376</td>\n",
       "            <td>6.13</td>\n",
       "        </tr>\n",
       "        <tr>\n",
       "            <td>Communications &amp; Journalism</td>\n",
       "            <td>26852</td>\n",
       "            <td>392601</td>\n",
       "            <td>6.84</td>\n",
       "        </tr>\n",
       "        <tr>\n",
       "            <td>Computers &amp; Mathematics</td>\n",
       "            <td>18373</td>\n",
       "            <td>299008</td>\n",
       "            <td>6.14</td>\n",
       "        </tr>\n",
       "        <tr>\n",
       "            <td>Education</td>\n",
       "            <td>24969</td>\n",
       "            <td>559129</td>\n",
       "            <td>4.47</td>\n",
       "        </tr>\n",
       "        <tr>\n",
       "            <td>Engineering</td>\n",
       "            <td>29817</td>\n",
       "            <td>537583</td>\n",
       "            <td>5.55</td>\n",
       "        </tr>\n",
       "        <tr>\n",
       "            <td>Health</td>\n",
       "            <td>22213</td>\n",
       "            <td>463230</td>\n",
       "            <td>4.8</td>\n",
       "        </tr>\n",
       "        <tr>\n",
       "            <td>Humanities &amp; Liberal Arts</td>\n",
       "            <td>51101</td>\n",
       "            <td>713468</td>\n",
       "            <td>7.16</td>\n",
       "        </tr>\n",
       "        <tr>\n",
       "            <td>Industrial Arts &amp; Consumer Services</td>\n",
       "            <td>11526</td>\n",
       "            <td>229792</td>\n",
       "            <td>5.02</td>\n",
       "        </tr>\n",
       "        <tr>\n",
       "            <td>Interdisciplinary</td>\n",
       "            <td>749</td>\n",
       "            <td>12296</td>\n",
       "            <td>6.09</td>\n",
       "        </tr>\n",
       "        <tr>\n",
       "            <td>Law &amp; Public Policy</td>\n",
       "            <td>13495</td>\n",
       "            <td>179107</td>\n",
       "            <td>7.53</td>\n",
       "        </tr>\n",
       "        <tr>\n",
       "            <td>Physical Sciences</td>\n",
       "            <td>7880</td>\n",
       "            <td>185479</td>\n",
       "            <td>4.25</td>\n",
       "        </tr>\n",
       "        <tr>\n",
       "            <td>Psychology &amp; Social Work</td>\n",
       "            <td>33292</td>\n",
       "            <td>481007</td>\n",
       "            <td>6.92</td>\n",
       "        </tr>\n",
       "        <tr>\n",
       "            <td>Social Science</td>\n",
       "            <td>42975</td>\n",
       "            <td>529966</td>\n",
       "            <td>8.11</td>\n",
       "        </tr>\n",
       "    </tbody>\n",
       "</table>"
      ],
      "text/plain": [
       "[('Agriculture & Natural Resources', 3824, 79981, 4.78),\n",
       " ('Arts', 28228, 357130, 7.9),\n",
       " ('Biology & Life Science', 22854, 453862, 5.04),\n",
       " ('Business', 79877, 1302376, 6.13),\n",
       " ('Communications & Journalism', 26852, 392601, 6.84),\n",
       " ('Computers & Mathematics', 18373, 299008, 6.14),\n",
       " ('Education', 24969, 559129, 4.47),\n",
       " ('Engineering', 29817, 537583, 5.55),\n",
       " ('Health', 22213, 463230, 4.8),\n",
       " ('Humanities & Liberal Arts', 51101, 713468, 7.16),\n",
       " ('Industrial Arts & Consumer Services', 11526, 229792, 5.02),\n",
       " ('Interdisciplinary', 749, 12296, 6.09),\n",
       " ('Law & Public Policy', 13495, 179107, 7.53),\n",
       " ('Physical Sciences', 7880, 185479, 4.25),\n",
       " ('Psychology & Social Work', 33292, 481007, 6.92),\n",
       " ('Social Science', 42975, 529966, 8.11)]"
      ]
     },
     "execution_count": 32,
     "metadata": {},
     "output_type": "execute_result"
    }
   ],
   "source": [
    "%%sql\n",
    "SELECT \n",
    "    Major_category, \n",
    "    SUM(Unemployed) AS Total_unemployed,\n",
    "    SUM(Total) AS Total_graduates,\n",
    "   rOUND((CAST(SUM(Unemployed) AS FLOAT)/ SUM(Total)) * 100,2)  AS UnemploymentRate\n",
    "FROM recent_grads\n",
    "GROUP BY Major_category;"
   ]
  },
  {
   "cell_type": "code",
   "execution_count": null,
   "metadata": {
    "vscode": {
     "languageId": "sql"
    }
   },
   "outputs": [],
   "source": []
  }
 ],
 "metadata": {
  "kernelspec": {
   "display_name": "myenv",
   "language": "python",
   "name": "python3"
  },
  "language_info": {
   "codemirror_mode": {
    "name": "ipython",
    "version": 3
   },
   "file_extension": ".py",
   "mimetype": "text/x-python",
   "name": "python",
   "nbconvert_exporter": "python",
   "pygments_lexer": "ipython3",
   "version": "3.9.16"
  },
  "orig_nbformat": 4
 },
 "nbformat": 4,
 "nbformat_minor": 2
}
