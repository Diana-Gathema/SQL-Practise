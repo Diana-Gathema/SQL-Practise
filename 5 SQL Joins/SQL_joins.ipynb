{
 "cells": [
  {
   "cell_type": "code",
   "execution_count": 1,
   "metadata": {},
   "outputs": [
    {
     "name": "stdout",
     "output_type": "stream",
     "text": [
      "Requirement already satisfied: ipython-sql in c:\\programdata\\anaconda3\\envs\\myenv\\lib\\site-packages (0.5.0)\n",
      "Requirement already satisfied: prettytable in c:\\programdata\\anaconda3\\envs\\myenv\\lib\\site-packages (from ipython-sql) (3.7.0)\n",
      "Requirement already satisfied: sqlalchemy>=2.0 in c:\\programdata\\anaconda3\\envs\\myenv\\lib\\site-packages (from ipython-sql) (2.0.12)\n",
      "Requirement already satisfied: ipython-genutils in c:\\programdata\\anaconda3\\envs\\myenv\\lib\\site-packages (from ipython-sql) (0.2.0)\n",
      "Requirement already satisfied: ipython in c:\\programdata\\anaconda3\\envs\\myenv\\lib\\site-packages (from ipython-sql) (8.13.2)\n",
      "Requirement already satisfied: six in c:\\programdata\\anaconda3\\envs\\myenv\\lib\\site-packages (from ipython-sql) (1.16.0)\n",
      "Requirement already satisfied: sqlparse in c:\\programdata\\anaconda3\\envs\\myenv\\lib\\site-packages (from ipython-sql) (0.4.4)\n",
      "Requirement already satisfied: greenlet!=0.4.17 in c:\\programdata\\anaconda3\\envs\\myenv\\lib\\site-packages (from sqlalchemy>=2.0->ipython-sql) (2.0.2)\n",
      "Requirement already satisfied: typing-extensions>=4.2.0 in c:\\programdata\\anaconda3\\envs\\myenv\\lib\\site-packages (from sqlalchemy>=2.0->ipython-sql) (4.5.0)\n",
      "Requirement already satisfied: backcall in c:\\programdata\\anaconda3\\envs\\myenv\\lib\\site-packages (from ipython->ipython-sql) (0.2.0)\n",
      "Requirement already satisfied: traitlets>=5 in c:\\programdata\\anaconda3\\envs\\myenv\\lib\\site-packages (from ipython->ipython-sql) (5.9.0)\n",
      "Requirement already satisfied: decorator in c:\\programdata\\anaconda3\\envs\\myenv\\lib\\site-packages (from ipython->ipython-sql) (5.1.1)\n",
      "Requirement already satisfied: jedi>=0.16 in c:\\programdata\\anaconda3\\envs\\myenv\\lib\\site-packages (from ipython->ipython-sql) (0.18.2)\n",
      "Requirement already satisfied: pickleshare in c:\\programdata\\anaconda3\\envs\\myenv\\lib\\site-packages (from ipython->ipython-sql) (0.7.5)\n",
      "Requirement already satisfied: stack-data in c:\\programdata\\anaconda3\\envs\\myenv\\lib\\site-packages (from ipython->ipython-sql) (0.6.2)\n",
      "Requirement already satisfied: colorama in c:\\programdata\\anaconda3\\envs\\myenv\\lib\\site-packages (from ipython->ipython-sql) (0.4.6)\n",
      "Requirement already satisfied: matplotlib-inline in c:\\programdata\\anaconda3\\envs\\myenv\\lib\\site-packages (from ipython->ipython-sql) (0.1.6)\n",
      "Requirement already satisfied: pygments>=2.4.0 in c:\\programdata\\anaconda3\\envs\\myenv\\lib\\site-packages (from ipython->ipython-sql) (2.15.1)\n",
      "Requirement already satisfied: prompt-toolkit!=3.0.37,<3.1.0,>=3.0.30 in c:\\programdata\\anaconda3\\envs\\myenv\\lib\\site-packages (from ipython->ipython-sql) (3.0.38)\n",
      "Requirement already satisfied: wcwidth in c:\\programdata\\anaconda3\\envs\\myenv\\lib\\site-packages (from prettytable->ipython-sql) (0.2.6)\n",
      "Requirement already satisfied: parso<0.9.0,>=0.8.0 in c:\\programdata\\anaconda3\\envs\\myenv\\lib\\site-packages (from jedi>=0.16->ipython->ipython-sql) (0.8.3)\n",
      "Requirement already satisfied: pure-eval in c:\\programdata\\anaconda3\\envs\\myenv\\lib\\site-packages (from stack-data->ipython->ipython-sql) (0.2.2)\n",
      "Requirement already satisfied: asttokens>=2.1.0 in c:\\programdata\\anaconda3\\envs\\myenv\\lib\\site-packages (from stack-data->ipython->ipython-sql) (2.2.1)\n",
      "Requirement already satisfied: executing>=1.2.0 in c:\\programdata\\anaconda3\\envs\\myenv\\lib\\site-packages (from stack-data->ipython->ipython-sql) (1.2.0)\n"
     ]
    }
   ],
   "source": [
    "! pip install ipython-sql"
   ]
  },
  {
   "cell_type": "code",
   "execution_count": 3,
   "metadata": {},
   "outputs": [],
   "source": [
    "%load_ext sql\n",
    "%sql sqlite:///factbook.db"
   ]
  },
  {
   "attachments": {},
   "cell_type": "markdown",
   "metadata": {},
   "source": [
    "### SQL JOINS\n",
    "##### SQL Join statement is used to combine data from two or more tables based on a common field between them.\n",
    "\n",
    "### Types of joins:\n",
    "###### INNER JOINS\n",
    "###### LEFT JOINS\n",
    "###### FULL OUTER JOINS\n",
    "###### RIGHT JOINS"
   ]
  },
  {
   "attachments": {},
   "cell_type": "markdown",
   "metadata": {},
   "source": [
    "## Structure of a JOIN statement"
   ]
  },
  {
   "attachments": {},
   "cell_type": "markdown",
   "metadata": {},
   "source": [
    "    SELECT Column_list\n",
    "    FROM TABLE1\n",
    "    [JOIN TYPE] TABLE2\n",
    "    ON Table1.ColName = Table2.ColName\n",
    "\n",
    "##### TABLE1 - First table to be joined\n",
    "##### [JOIN TYPE] TABLE2 - The type of join you are using e.g LEFT JOIN / INNER JOIN\n",
    "##### ON - Tells which columns to use to join the tables."
   ]
  },
  {
   "attachments": {},
   "cell_type": "markdown",
   "metadata": {},
   "source": [
    "##### Displaying the tables in the database"
   ]
  },
  {
   "cell_type": "code",
   "execution_count": 4,
   "metadata": {},
   "outputs": [
    {
     "name": "stdout",
     "output_type": "stream",
     "text": [
      " * sqlite:///factbook.db\n",
      "Done.\n"
     ]
    },
    {
     "data": {
      "text/html": [
       "<table>\n",
       "    <thead>\n",
       "        <tr>\n",
       "            <th>name</th>\n",
       "            <th>type</th>\n",
       "        </tr>\n",
       "    </thead>\n",
       "    <tbody>\n",
       "        <tr>\n",
       "            <td>sqlite_sequence</td>\n",
       "            <td>table</td>\n",
       "        </tr>\n",
       "        <tr>\n",
       "            <td>facts</td>\n",
       "            <td>table</td>\n",
       "        </tr>\n",
       "        <tr>\n",
       "            <td>cities</td>\n",
       "            <td>table</td>\n",
       "        </tr>\n",
       "    </tbody>\n",
       "</table>"
      ],
      "text/plain": [
       "[('sqlite_sequence', 'table'), ('facts', 'table'), ('cities', 'table')]"
      ]
     },
     "execution_count": 4,
     "metadata": {},
     "output_type": "execute_result"
    }
   ],
   "source": [
    "%%sql\n",
    "SELECT\n",
    "    name,\n",
    "    type\n",
    "FROM sqlite_master\n",
    "WHERE type IN (\"table\",\"view\");"
   ]
  },
  {
   "cell_type": "code",
   "execution_count": 5,
   "metadata": {
    "vscode": {
     "languageId": "sql"
    }
   },
   "outputs": [
    {
     "name": "stdout",
     "output_type": "stream",
     "text": [
      " * sqlite:///factbook.db\n",
      "Done.\n"
     ]
    },
    {
     "data": {
      "text/html": [
       "<table>\n",
       "    <thead>\n",
       "        <tr>\n",
       "            <th>id</th>\n",
       "            <th>name</th>\n",
       "            <th>population</th>\n",
       "            <th>capital</th>\n",
       "            <th>facts_id</th>\n",
       "        </tr>\n",
       "    </thead>\n",
       "    <tbody>\n",
       "        <tr>\n",
       "            <td>1</td>\n",
       "            <td>Oranjestad</td>\n",
       "            <td>37000</td>\n",
       "            <td>1</td>\n",
       "            <td>216</td>\n",
       "        </tr>\n",
       "        <tr>\n",
       "            <td>2</td>\n",
       "            <td>Saint John&#x27;S</td>\n",
       "            <td>27000</td>\n",
       "            <td>1</td>\n",
       "            <td>6</td>\n",
       "        </tr>\n",
       "        <tr>\n",
       "            <td>3</td>\n",
       "            <td>Abu Dhabi</td>\n",
       "            <td>942000</td>\n",
       "            <td>1</td>\n",
       "            <td>184</td>\n",
       "        </tr>\n",
       "        <tr>\n",
       "            <td>4</td>\n",
       "            <td>Dubai</td>\n",
       "            <td>1978000</td>\n",
       "            <td>0</td>\n",
       "            <td>184</td>\n",
       "        </tr>\n",
       "        <tr>\n",
       "            <td>5</td>\n",
       "            <td>Sharjah</td>\n",
       "            <td>983000</td>\n",
       "            <td>0</td>\n",
       "            <td>184</td>\n",
       "        </tr>\n",
       "    </tbody>\n",
       "</table>"
      ],
      "text/plain": [
       "[(1, 'Oranjestad', 37000, 1, '216'),\n",
       " (2, \"Saint John'S\", 27000, 1, '6'),\n",
       " (3, 'Abu Dhabi', 942000, 1, '184'),\n",
       " (4, 'Dubai', 1978000, 0, '184'),\n",
       " (5, 'Sharjah', 983000, 0, '184')]"
      ]
     },
     "execution_count": 5,
     "metadata": {},
     "output_type": "execute_result"
    }
   ],
   "source": [
    "%%sql\n",
    "SELECT *\n",
    "FROM cities\n",
    "LIMIT 5;"
   ]
  },
  {
   "cell_type": "code",
   "execution_count": 6,
   "metadata": {
    "vscode": {
     "languageId": "sql"
    }
   },
   "outputs": [
    {
     "name": "stdout",
     "output_type": "stream",
     "text": [
      " * sqlite:///factbook.db\n",
      "Done.\n"
     ]
    },
    {
     "data": {
      "text/html": [
       "<table>\n",
       "    <thead>\n",
       "        <tr>\n",
       "            <th>id</th>\n",
       "            <th>code</th>\n",
       "            <th>name</th>\n",
       "            <th>area</th>\n",
       "            <th>area_land</th>\n",
       "            <th>area_water</th>\n",
       "            <th>population</th>\n",
       "            <th>population_growth</th>\n",
       "            <th>birth_rate</th>\n",
       "            <th>death_rate</th>\n",
       "            <th>migration_rate</th>\n",
       "        </tr>\n",
       "    </thead>\n",
       "    <tbody>\n",
       "        <tr>\n",
       "            <td>1</td>\n",
       "            <td>af</td>\n",
       "            <td>Afghanistan</td>\n",
       "            <td>652230</td>\n",
       "            <td>652230</td>\n",
       "            <td>0</td>\n",
       "            <td>32564342</td>\n",
       "            <td>2.32</td>\n",
       "            <td>38.57</td>\n",
       "            <td>13.89</td>\n",
       "            <td>1.51</td>\n",
       "        </tr>\n",
       "        <tr>\n",
       "            <td>2</td>\n",
       "            <td>al</td>\n",
       "            <td>Albania</td>\n",
       "            <td>28748</td>\n",
       "            <td>27398</td>\n",
       "            <td>1350</td>\n",
       "            <td>3029278</td>\n",
       "            <td>0.3</td>\n",
       "            <td>12.92</td>\n",
       "            <td>6.58</td>\n",
       "            <td>3.3</td>\n",
       "        </tr>\n",
       "        <tr>\n",
       "            <td>3</td>\n",
       "            <td>ag</td>\n",
       "            <td>Algeria</td>\n",
       "            <td>2381741</td>\n",
       "            <td>2381741</td>\n",
       "            <td>0</td>\n",
       "            <td>39542166</td>\n",
       "            <td>1.84</td>\n",
       "            <td>23.67</td>\n",
       "            <td>4.31</td>\n",
       "            <td>0.92</td>\n",
       "        </tr>\n",
       "        <tr>\n",
       "            <td>4</td>\n",
       "            <td>an</td>\n",
       "            <td>Andorra</td>\n",
       "            <td>468</td>\n",
       "            <td>468</td>\n",
       "            <td>0</td>\n",
       "            <td>85580</td>\n",
       "            <td>0.12</td>\n",
       "            <td>8.13</td>\n",
       "            <td>6.96</td>\n",
       "            <td>0.0</td>\n",
       "        </tr>\n",
       "        <tr>\n",
       "            <td>5</td>\n",
       "            <td>ao</td>\n",
       "            <td>Angola</td>\n",
       "            <td>1246700</td>\n",
       "            <td>1246700</td>\n",
       "            <td>0</td>\n",
       "            <td>19625353</td>\n",
       "            <td>2.78</td>\n",
       "            <td>38.78</td>\n",
       "            <td>11.49</td>\n",
       "            <td>0.46</td>\n",
       "        </tr>\n",
       "    </tbody>\n",
       "</table>"
      ],
      "text/plain": [
       "[(1, 'af', 'Afghanistan', 652230, 652230, 0, 32564342, 2.32, 38.57, 13.89, 1.51),\n",
       " (2, 'al', 'Albania', 28748, 27398, 1350, 3029278, 0.3, 12.92, 6.58, 3.3),\n",
       " (3, 'ag', 'Algeria', 2381741, 2381741, 0, 39542166, 1.84, 23.67, 4.31, 0.92),\n",
       " (4, 'an', 'Andorra', 468, 468, 0, 85580, 0.12, 8.13, 6.96, 0.0),\n",
       " (5, 'ao', 'Angola', 1246700, 1246700, 0, 19625353, 2.78, 38.78, 11.49, 0.46)]"
      ]
     },
     "execution_count": 6,
     "metadata": {},
     "output_type": "execute_result"
    }
   ],
   "source": [
    "%%sql\n",
    "SELECT *\n",
    "FROM facts\n",
    "LIMIT 5;"
   ]
  },
  {
   "attachments": {},
   "cell_type": "markdown",
   "metadata": {},
   "source": [
    "### INNER JOIN"
   ]
  },
  {
   "attachments": {},
   "cell_type": "markdown",
   "metadata": {},
   "source": [
    "###### > The inner join compares rows in Table1 with Table2 to check if anything matches based on the condition in the ON clause.\n",
    "###### > When the join condition is met, SQL returns matched rows in both tables with the selected columns in the SELECT clause."
   ]
  },
  {
   "attachments": {},
   "cell_type": "markdown",
   "metadata": {},
   "source": [
    "##### Getting cities from cities table for each country in facts table"
   ]
  },
  {
   "cell_type": "code",
   "execution_count": 7,
   "metadata": {
    "vscode": {
     "languageId": "sql"
    }
   },
   "outputs": [
    {
     "name": "stdout",
     "output_type": "stream",
     "text": [
      " * sqlite:///factbook.db\n",
      "Done.\n"
     ]
    },
    {
     "data": {
      "text/html": [
       "<table>\n",
       "    <thead>\n",
       "        <tr>\n",
       "            <th>Country</th>\n",
       "            <th>City</th>\n",
       "        </tr>\n",
       "    </thead>\n",
       "    <tbody>\n",
       "        <tr>\n",
       "            <td>Aruba</td>\n",
       "            <td>Oranjestad</td>\n",
       "        </tr>\n",
       "        <tr>\n",
       "            <td>Antigua and Barbuda</td>\n",
       "            <td>Saint John&#x27;S</td>\n",
       "        </tr>\n",
       "        <tr>\n",
       "            <td>United Arab Emirates</td>\n",
       "            <td>Abu Dhabi</td>\n",
       "        </tr>\n",
       "        <tr>\n",
       "            <td>United Arab Emirates</td>\n",
       "            <td>Dubai</td>\n",
       "        </tr>\n",
       "        <tr>\n",
       "            <td>United Arab Emirates</td>\n",
       "            <td>Sharjah</td>\n",
       "        </tr>\n",
       "        <tr>\n",
       "            <td>Afghanistan</td>\n",
       "            <td>Kabul</td>\n",
       "        </tr>\n",
       "        <tr>\n",
       "            <td>Algeria</td>\n",
       "            <td>Algiers</td>\n",
       "        </tr>\n",
       "        <tr>\n",
       "            <td>Algeria</td>\n",
       "            <td>Oran</td>\n",
       "        </tr>\n",
       "        <tr>\n",
       "            <td>Azerbaijan</td>\n",
       "            <td>Baku</td>\n",
       "        </tr>\n",
       "        <tr>\n",
       "            <td>Albania</td>\n",
       "            <td>Tirana</td>\n",
       "        </tr>\n",
       "    </tbody>\n",
       "</table>"
      ],
      "text/plain": [
       "[('Aruba', 'Oranjestad'),\n",
       " ('Antigua and Barbuda', \"Saint John'S\"),\n",
       " ('United Arab Emirates', 'Abu Dhabi'),\n",
       " ('United Arab Emirates', 'Dubai'),\n",
       " ('United Arab Emirates', 'Sharjah'),\n",
       " ('Afghanistan', 'Kabul'),\n",
       " ('Algeria', 'Algiers'),\n",
       " ('Algeria', 'Oran'),\n",
       " ('Azerbaijan', 'Baku'),\n",
       " ('Albania', 'Tirana')]"
      ]
     },
     "execution_count": 7,
     "metadata": {},
     "output_type": "execute_result"
    }
   ],
   "source": [
    "%%sql\n",
    "SELECT \n",
    "    facts.name AS Country,\n",
    "    cities.name AS City\n",
    "FROM facts\n",
    "INNER JOIN cities ON cities.facts_id = facts.id\n",
    "LIMIT 10;"
   ]
  },
  {
   "attachments": {},
   "cell_type": "markdown",
   "metadata": {},
   "source": [
    "### Exercise\n",
    "###### Use INNER JOIN to get only the Capital cities for each country."
   ]
  },
  {
   "cell_type": "code",
   "execution_count": 8,
   "metadata": {
    "vscode": {
     "languageId": "sql"
    }
   },
   "outputs": [
    {
     "name": "stdout",
     "output_type": "stream",
     "text": [
      " * sqlite:///factbook.db\n",
      "Done.\n"
     ]
    },
    {
     "data": {
      "text/html": [
       "<table>\n",
       "    <thead>\n",
       "        <tr>\n",
       "            <th>Country</th>\n",
       "            <th>City</th>\n",
       "        </tr>\n",
       "    </thead>\n",
       "    <tbody>\n",
       "        <tr>\n",
       "            <td>Aruba</td>\n",
       "            <td>Oranjestad</td>\n",
       "        </tr>\n",
       "        <tr>\n",
       "            <td>Antigua and Barbuda</td>\n",
       "            <td>Saint John&#x27;S</td>\n",
       "        </tr>\n",
       "        <tr>\n",
       "            <td>United Arab Emirates</td>\n",
       "            <td>Abu Dhabi</td>\n",
       "        </tr>\n",
       "        <tr>\n",
       "            <td>Afghanistan</td>\n",
       "            <td>Kabul</td>\n",
       "        </tr>\n",
       "        <tr>\n",
       "            <td>Algeria</td>\n",
       "            <td>Algiers</td>\n",
       "        </tr>\n",
       "        <tr>\n",
       "            <td>Azerbaijan</td>\n",
       "            <td>Baku</td>\n",
       "        </tr>\n",
       "        <tr>\n",
       "            <td>Albania</td>\n",
       "            <td>Tirana</td>\n",
       "        </tr>\n",
       "        <tr>\n",
       "            <td>Armenia</td>\n",
       "            <td>Yerevan</td>\n",
       "        </tr>\n",
       "        <tr>\n",
       "            <td>Andorra</td>\n",
       "            <td>Andorra La Vella</td>\n",
       "        </tr>\n",
       "        <tr>\n",
       "            <td>Angola</td>\n",
       "            <td>Luanda</td>\n",
       "        </tr>\n",
       "    </tbody>\n",
       "</table>"
      ],
      "text/plain": [
       "[('Aruba', 'Oranjestad'),\n",
       " ('Antigua and Barbuda', \"Saint John'S\"),\n",
       " ('United Arab Emirates', 'Abu Dhabi'),\n",
       " ('Afghanistan', 'Kabul'),\n",
       " ('Algeria', 'Algiers'),\n",
       " ('Azerbaijan', 'Baku'),\n",
       " ('Albania', 'Tirana'),\n",
       " ('Armenia', 'Yerevan'),\n",
       " ('Andorra', 'Andorra La Vella'),\n",
       " ('Angola', 'Luanda')]"
      ]
     },
     "execution_count": 8,
     "metadata": {},
     "output_type": "execute_result"
    }
   ],
   "source": [
    "%%sql\n",
    "SELECT\n",
    "    facts.name AS Country,\n",
    "    cities.name AS City\n",
    "FROM facts\n",
    "INNER JOIN cities ON cities.facts_id = facts.id\n",
    "WHERE cities.capital = 1\n",
    "LIMIT 10;"
   ]
  },
  {
   "attachments": {},
   "cell_type": "markdown",
   "metadata": {},
   "source": [
    "#### LEFT JOIN"
   ]
  },
  {
   "attachments": {},
   "cell_type": "markdown",
   "metadata": {},
   "source": [
    "###### > A LEFT JOIN will include all rows an inner join would select, plus any rows from the first (left) table that don't have a match in the second table.\n",
    "###### > We could say that the LEFT JOIN return all rows in the left table and only rows in the right table that meet the condition in the ON clause.\n",
    "###### > The result is NULL in the right table if there is no match for in the ON clause condition.\n",
    "###### > When using INNER JOINS, you should always be thoughtful of the data you might be dropping in the process."
   ]
  },
  {
   "cell_type": "code",
   "execution_count": 9,
   "metadata": {
    "vscode": {
     "languageId": "sql"
    }
   },
   "outputs": [
    {
     "name": "stdout",
     "output_type": "stream",
     "text": [
      " * sqlite:///factbook.db\n",
      "Done.\n"
     ]
    },
    {
     "data": {
      "text/html": [
       "<table>\n",
       "    <thead>\n",
       "        <tr>\n",
       "            <th>Country</th>\n",
       "            <th>City</th>\n",
       "        </tr>\n",
       "    </thead>\n",
       "    <tbody>\n",
       "        <tr>\n",
       "            <td>Afghanistan</td>\n",
       "            <td>Kabul</td>\n",
       "        </tr>\n",
       "        <tr>\n",
       "            <td>Albania</td>\n",
       "            <td>Tirana</td>\n",
       "        </tr>\n",
       "        <tr>\n",
       "            <td>Algeria</td>\n",
       "            <td>Algiers</td>\n",
       "        </tr>\n",
       "        <tr>\n",
       "            <td>Algeria</td>\n",
       "            <td>Oran</td>\n",
       "        </tr>\n",
       "        <tr>\n",
       "            <td>Andorra</td>\n",
       "            <td>Andorra La Vella</td>\n",
       "        </tr>\n",
       "        <tr>\n",
       "            <td>Angola</td>\n",
       "            <td>Luanda</td>\n",
       "        </tr>\n",
       "        <tr>\n",
       "            <td>Angola</td>\n",
       "            <td>Huambo</td>\n",
       "        </tr>\n",
       "        <tr>\n",
       "            <td>Antigua and Barbuda</td>\n",
       "            <td>Saint John&#x27;S</td>\n",
       "        </tr>\n",
       "        <tr>\n",
       "            <td>Argentina</td>\n",
       "            <td>Buenos Aires</td>\n",
       "        </tr>\n",
       "        <tr>\n",
       "            <td>Argentina</td>\n",
       "            <td>Cordoba</td>\n",
       "        </tr>\n",
       "    </tbody>\n",
       "</table>"
      ],
      "text/plain": [
       "[('Afghanistan', 'Kabul'),\n",
       " ('Albania', 'Tirana'),\n",
       " ('Algeria', 'Algiers'),\n",
       " ('Algeria', 'Oran'),\n",
       " ('Andorra', 'Andorra La Vella'),\n",
       " ('Angola', 'Luanda'),\n",
       " ('Angola', 'Huambo'),\n",
       " ('Antigua and Barbuda', \"Saint John'S\"),\n",
       " ('Argentina', 'Buenos Aires'),\n",
       " ('Argentina', 'Cordoba')]"
      ]
     },
     "execution_count": 9,
     "metadata": {},
     "output_type": "execute_result"
    }
   ],
   "source": [
    "%%sql\n",
    "SELECT\n",
    "    f.name AS Country,\n",
    "    c.name AS City\n",
    "FROM facts f\n",
    "LEFT JOIN cities c ON c.facts_id = f.id\n",
    "LIMIT 10;"
   ]
  },
  {
   "attachments": {},
   "cell_type": "markdown",
   "metadata": {},
   "source": [
    "### RIGHT JOIN"
   ]
  },
  {
   "attachments": {},
   "cell_type": "markdown",
   "metadata": {},
   "source": [
    "###### > A right join, as the name suggests, is exactly the opposite of a left join.\n",
    "###### > While the left join includes all rows in the table before the JOIN clause, the right join includes all rows in the new table in the JOIN clause.\n",
    "###### > The main reason a right join would be used is when you are joining more than two tables, otherwise RIGHT JOINS are rarely used."
   ]
  },
  {
   "attachments": {},
   "cell_type": "markdown",
   "metadata": {},
   "source": [
    "### FULL OUTER JOIN"
   ]
  },
  {
   "attachments": {},
   "cell_type": "markdown",
   "metadata": {},
   "source": [
    "###### > A full outer join will include all rows from the tables on both sides of the join.\n",
    "###### > FULL OUTER JOIN is not supported by SQLite"
   ]
  },
  {
   "attachments": {},
   "cell_type": "markdown",
   "metadata": {},
   "source": [
    "### Exercise"
   ]
  },
  {
   "attachments": {},
   "cell_type": "markdown",
   "metadata": {},
   "source": [
    "#### Question 1"
   ]
  },
  {
   "attachments": {},
   "cell_type": "markdown",
   "metadata": {},
   "source": [
    "Write a query that gathers data about the invoice with an invoice_id of 5. Include the following columns\n",
    "The id of the track, track_id.\n",
    "The name of the track, track_name.\n",
    "The name of media type of the track, track_type.\n",
    "The price that the customer paid for the track, unit_price."
   ]
  },
  {
   "cell_type": "code",
   "execution_count": 10,
   "metadata": {},
   "outputs": [
    {
     "name": "stdout",
     "output_type": "stream",
     "text": [
      "The sql extension is already loaded. To reload it, use:\n",
      "  %reload_ext sql\n"
     ]
    }
   ],
   "source": [
    "%load_ext sql\n",
    "%sql sqlite:///music.db"
   ]
  },
  {
   "cell_type": "code",
   "execution_count": 11,
   "metadata": {
    "vscode": {
     "languageId": "sql"
    }
   },
   "outputs": [
    {
     "name": "stdout",
     "output_type": "stream",
     "text": [
      "   sqlite:///factbook.db\n",
      " * sqlite:///music.db\n",
      "Done.\n"
     ]
    },
    {
     "data": {
      "text/html": [
       "<table>\n",
       "    <thead>\n",
       "        <tr>\n",
       "            <th>track_id</th>\n",
       "            <th>track_name</th>\n",
       "            <th>track_type</th>\n",
       "            <th>unit_price</th>\n",
       "        </tr>\n",
       "    </thead>\n",
       "    <tbody>\n",
       "        <tr>\n",
       "            <td>1986</td>\n",
       "            <td>Intro</td>\n",
       "            <td>MPEG audio file</td>\n",
       "            <td>0.99</td>\n",
       "        </tr>\n",
       "        <tr>\n",
       "            <td>1987</td>\n",
       "            <td>School</td>\n",
       "            <td>MPEG audio file</td>\n",
       "            <td>0.99</td>\n",
       "        </tr>\n",
       "        <tr>\n",
       "            <td>1988</td>\n",
       "            <td>Drain You</td>\n",
       "            <td>MPEG audio file</td>\n",
       "            <td>0.99</td>\n",
       "        </tr>\n",
       "        <tr>\n",
       "            <td>1989</td>\n",
       "            <td>Aneurysm</td>\n",
       "            <td>MPEG audio file</td>\n",
       "            <td>0.99</td>\n",
       "        </tr>\n",
       "        <tr>\n",
       "            <td>1990</td>\n",
       "            <td>Smells Like Teen Spirit</td>\n",
       "            <td>MPEG audio file</td>\n",
       "            <td>0.99</td>\n",
       "        </tr>\n",
       "        <tr>\n",
       "            <td>1991</td>\n",
       "            <td>Been A Son</td>\n",
       "            <td>MPEG audio file</td>\n",
       "            <td>0.99</td>\n",
       "        </tr>\n",
       "        <tr>\n",
       "            <td>1992</td>\n",
       "            <td>Lithium</td>\n",
       "            <td>MPEG audio file</td>\n",
       "            <td>0.99</td>\n",
       "        </tr>\n",
       "        <tr>\n",
       "            <td>1993</td>\n",
       "            <td>Sliver</td>\n",
       "            <td>MPEG audio file</td>\n",
       "            <td>0.99</td>\n",
       "        </tr>\n",
       "        <tr>\n",
       "            <td>1994</td>\n",
       "            <td>Spank Thru</td>\n",
       "            <td>MPEG audio file</td>\n",
       "            <td>0.99</td>\n",
       "        </tr>\n",
       "        <tr>\n",
       "            <td>1995</td>\n",
       "            <td>Scentless Apprentice</td>\n",
       "            <td>MPEG audio file</td>\n",
       "            <td>0.99</td>\n",
       "        </tr>\n",
       "        <tr>\n",
       "            <td>1996</td>\n",
       "            <td>Heart-Shaped Box</td>\n",
       "            <td>MPEG audio file</td>\n",
       "            <td>0.99</td>\n",
       "        </tr>\n",
       "        <tr>\n",
       "            <td>1997</td>\n",
       "            <td>Milk It</td>\n",
       "            <td>MPEG audio file</td>\n",
       "            <td>0.99</td>\n",
       "        </tr>\n",
       "        <tr>\n",
       "            <td>1998</td>\n",
       "            <td>Negative Creep</td>\n",
       "            <td>MPEG audio file</td>\n",
       "            <td>0.99</td>\n",
       "        </tr>\n",
       "        <tr>\n",
       "            <td>1999</td>\n",
       "            <td>Polly</td>\n",
       "            <td>MPEG audio file</td>\n",
       "            <td>0.99</td>\n",
       "        </tr>\n",
       "        <tr>\n",
       "            <td>2000</td>\n",
       "            <td>Breed</td>\n",
       "            <td>MPEG audio file</td>\n",
       "            <td>0.99</td>\n",
       "        </tr>\n",
       "        <tr>\n",
       "            <td>2001</td>\n",
       "            <td>Tourette&#x27;s</td>\n",
       "            <td>MPEG audio file</td>\n",
       "            <td>0.99</td>\n",
       "        </tr>\n",
       "        <tr>\n",
       "            <td>2002</td>\n",
       "            <td>Blew</td>\n",
       "            <td>MPEG audio file</td>\n",
       "            <td>0.99</td>\n",
       "        </tr>\n",
       "    </tbody>\n",
       "</table>"
      ],
      "text/plain": [
       "[(1986, 'Intro', 'MPEG audio file', 0.99),\n",
       " (1987, 'School', 'MPEG audio file', 0.99),\n",
       " (1988, 'Drain You', 'MPEG audio file', 0.99),\n",
       " (1989, 'Aneurysm', 'MPEG audio file', 0.99),\n",
       " (1990, 'Smells Like Teen Spirit', 'MPEG audio file', 0.99),\n",
       " (1991, 'Been A Son', 'MPEG audio file', 0.99),\n",
       " (1992, 'Lithium', 'MPEG audio file', 0.99),\n",
       " (1993, 'Sliver', 'MPEG audio file', 0.99),\n",
       " (1994, 'Spank Thru', 'MPEG audio file', 0.99),\n",
       " (1995, 'Scentless Apprentice', 'MPEG audio file', 0.99),\n",
       " (1996, 'Heart-Shaped Box', 'MPEG audio file', 0.99),\n",
       " (1997, 'Milk It', 'MPEG audio file', 0.99),\n",
       " (1998, 'Negative Creep', 'MPEG audio file', 0.99),\n",
       " (1999, 'Polly', 'MPEG audio file', 0.99),\n",
       " (2000, 'Breed', 'MPEG audio file', 0.99),\n",
       " (2001, \"Tourette's\", 'MPEG audio file', 0.99),\n",
       " (2002, 'Blew', 'MPEG audio file', 0.99)]"
      ]
     },
     "execution_count": 11,
     "metadata": {},
     "output_type": "execute_result"
    }
   ],
   "source": [
    "%%sql\n",
    "SELECT\n",
    "    t.track_id AS track_id,\n",
    "    t.name AS track_name,\n",
    "    m.name AS track_type,\n",
    "    il.unit_price AS unit_price\n",
    "FROM invoice i\n",
    "LEFT JOIN invoice_line il ON il.invoice_id = i.invoice_id\n",
    "LEFT JOIN track t ON t.track_id = il.track_id\n",
    "LEFT JOIN media_type m ON m.media_type_id = t.media_type_id\n",
    "WHERE i.invoice_id = 5;"
   ]
  },
  {
   "attachments": {},
   "cell_type": "markdown",
   "metadata": {},
   "source": [
    "#### Question 2\n",
    "\n",
    "\n"
   ]
  },
  {
   "attachments": {},
   "cell_type": "markdown",
   "metadata": {},
   "source": [
    "Add a column containing the artists name to the query from the previous question.The column should be called artist_name.The column should come last in the result table."
   ]
  },
  {
   "cell_type": "code",
   "execution_count": 12,
   "metadata": {
    "vscode": {
     "languageId": "sql"
    }
   },
   "outputs": [
    {
     "name": "stdout",
     "output_type": "stream",
     "text": [
      "   sqlite:///factbook.db\n",
      " * sqlite:///music.db\n",
      "Done.\n"
     ]
    },
    {
     "data": {
      "text/html": [
       "<table>\n",
       "    <thead>\n",
       "        <tr>\n",
       "            <th>track_id</th>\n",
       "            <th>track_name</th>\n",
       "            <th>track_type</th>\n",
       "            <th>unit_price</th>\n",
       "            <th>artist_name</th>\n",
       "        </tr>\n",
       "    </thead>\n",
       "    <tbody>\n",
       "        <tr>\n",
       "            <td>1986</td>\n",
       "            <td>Intro</td>\n",
       "            <td>MPEG audio file</td>\n",
       "            <td>0.99</td>\n",
       "            <td>Nirvana</td>\n",
       "        </tr>\n",
       "        <tr>\n",
       "            <td>1987</td>\n",
       "            <td>School</td>\n",
       "            <td>MPEG audio file</td>\n",
       "            <td>0.99</td>\n",
       "            <td>Nirvana</td>\n",
       "        </tr>\n",
       "        <tr>\n",
       "            <td>1988</td>\n",
       "            <td>Drain You</td>\n",
       "            <td>MPEG audio file</td>\n",
       "            <td>0.99</td>\n",
       "            <td>Nirvana</td>\n",
       "        </tr>\n",
       "        <tr>\n",
       "            <td>1989</td>\n",
       "            <td>Aneurysm</td>\n",
       "            <td>MPEG audio file</td>\n",
       "            <td>0.99</td>\n",
       "            <td>Nirvana</td>\n",
       "        </tr>\n",
       "        <tr>\n",
       "            <td>1990</td>\n",
       "            <td>Smells Like Teen Spirit</td>\n",
       "            <td>MPEG audio file</td>\n",
       "            <td>0.99</td>\n",
       "            <td>Nirvana</td>\n",
       "        </tr>\n",
       "        <tr>\n",
       "            <td>1991</td>\n",
       "            <td>Been A Son</td>\n",
       "            <td>MPEG audio file</td>\n",
       "            <td>0.99</td>\n",
       "            <td>Nirvana</td>\n",
       "        </tr>\n",
       "        <tr>\n",
       "            <td>1992</td>\n",
       "            <td>Lithium</td>\n",
       "            <td>MPEG audio file</td>\n",
       "            <td>0.99</td>\n",
       "            <td>Nirvana</td>\n",
       "        </tr>\n",
       "        <tr>\n",
       "            <td>1993</td>\n",
       "            <td>Sliver</td>\n",
       "            <td>MPEG audio file</td>\n",
       "            <td>0.99</td>\n",
       "            <td>Nirvana</td>\n",
       "        </tr>\n",
       "        <tr>\n",
       "            <td>1994</td>\n",
       "            <td>Spank Thru</td>\n",
       "            <td>MPEG audio file</td>\n",
       "            <td>0.99</td>\n",
       "            <td>Nirvana</td>\n",
       "        </tr>\n",
       "        <tr>\n",
       "            <td>1995</td>\n",
       "            <td>Scentless Apprentice</td>\n",
       "            <td>MPEG audio file</td>\n",
       "            <td>0.99</td>\n",
       "            <td>Nirvana</td>\n",
       "        </tr>\n",
       "        <tr>\n",
       "            <td>1996</td>\n",
       "            <td>Heart-Shaped Box</td>\n",
       "            <td>MPEG audio file</td>\n",
       "            <td>0.99</td>\n",
       "            <td>Nirvana</td>\n",
       "        </tr>\n",
       "        <tr>\n",
       "            <td>1997</td>\n",
       "            <td>Milk It</td>\n",
       "            <td>MPEG audio file</td>\n",
       "            <td>0.99</td>\n",
       "            <td>Nirvana</td>\n",
       "        </tr>\n",
       "        <tr>\n",
       "            <td>1998</td>\n",
       "            <td>Negative Creep</td>\n",
       "            <td>MPEG audio file</td>\n",
       "            <td>0.99</td>\n",
       "            <td>Nirvana</td>\n",
       "        </tr>\n",
       "        <tr>\n",
       "            <td>1999</td>\n",
       "            <td>Polly</td>\n",
       "            <td>MPEG audio file</td>\n",
       "            <td>0.99</td>\n",
       "            <td>Nirvana</td>\n",
       "        </tr>\n",
       "        <tr>\n",
       "            <td>2000</td>\n",
       "            <td>Breed</td>\n",
       "            <td>MPEG audio file</td>\n",
       "            <td>0.99</td>\n",
       "            <td>Nirvana</td>\n",
       "        </tr>\n",
       "        <tr>\n",
       "            <td>2001</td>\n",
       "            <td>Tourette&#x27;s</td>\n",
       "            <td>MPEG audio file</td>\n",
       "            <td>0.99</td>\n",
       "            <td>Nirvana</td>\n",
       "        </tr>\n",
       "        <tr>\n",
       "            <td>2002</td>\n",
       "            <td>Blew</td>\n",
       "            <td>MPEG audio file</td>\n",
       "            <td>0.99</td>\n",
       "            <td>Nirvana</td>\n",
       "        </tr>\n",
       "    </tbody>\n",
       "</table>"
      ],
      "text/plain": [
       "[(1986, 'Intro', 'MPEG audio file', 0.99, 'Nirvana'),\n",
       " (1987, 'School', 'MPEG audio file', 0.99, 'Nirvana'),\n",
       " (1988, 'Drain You', 'MPEG audio file', 0.99, 'Nirvana'),\n",
       " (1989, 'Aneurysm', 'MPEG audio file', 0.99, 'Nirvana'),\n",
       " (1990, 'Smells Like Teen Spirit', 'MPEG audio file', 0.99, 'Nirvana'),\n",
       " (1991, 'Been A Son', 'MPEG audio file', 0.99, 'Nirvana'),\n",
       " (1992, 'Lithium', 'MPEG audio file', 0.99, 'Nirvana'),\n",
       " (1993, 'Sliver', 'MPEG audio file', 0.99, 'Nirvana'),\n",
       " (1994, 'Spank Thru', 'MPEG audio file', 0.99, 'Nirvana'),\n",
       " (1995, 'Scentless Apprentice', 'MPEG audio file', 0.99, 'Nirvana'),\n",
       " (1996, 'Heart-Shaped Box', 'MPEG audio file', 0.99, 'Nirvana'),\n",
       " (1997, 'Milk It', 'MPEG audio file', 0.99, 'Nirvana'),\n",
       " (1998, 'Negative Creep', 'MPEG audio file', 0.99, 'Nirvana'),\n",
       " (1999, 'Polly', 'MPEG audio file', 0.99, 'Nirvana'),\n",
       " (2000, 'Breed', 'MPEG audio file', 0.99, 'Nirvana'),\n",
       " (2001, \"Tourette's\", 'MPEG audio file', 0.99, 'Nirvana'),\n",
       " (2002, 'Blew', 'MPEG audio file', 0.99, 'Nirvana')]"
      ]
     },
     "execution_count": 12,
     "metadata": {},
     "output_type": "execute_result"
    }
   ],
   "source": [
    "%%sql\n",
    "SELECT\n",
    "    t.track_id AS track_id,\n",
    "    t.name AS track_name,\n",
    "    m.name AS track_type,\n",
    "    il.unit_price AS unit_price,\n",
    "    a.name AS artist_name\n",
    "FROM invoice i\n",
    "LEFT JOIN invoice_line il ON il.invoice_id = i.invoice_id\n",
    "LEFT JOIN track t ON t.track_id = il.track_id\n",
    "LEFT JOIN media_type m ON m.media_type_id = t.media_type_id\n",
    "LEFT JOIN album al ON al.album_id = t.album_id\n",
    "LEFT JOIN artist a ON a.artist_id = al.artist_id\n",
    "WHERE i.invoice_id = 5;"
   ]
  },
  {
   "cell_type": "code",
   "execution_count": null,
   "metadata": {},
   "outputs": [],
   "source": []
  }
 ],
 "metadata": {
  "kernelspec": {
   "display_name": "Python 3 (ipykernel)",
   "language": "python",
   "name": "python3"
  },
  "language_info": {
   "codemirror_mode": {
    "name": "ipython",
    "version": 3
   },
   "file_extension": ".py",
   "mimetype": "text/x-python",
   "name": "python",
   "nbconvert_exporter": "python",
   "pygments_lexer": "ipython3",
   "version": "3.9.16"
  }
 },
 "nbformat": 4,
 "nbformat_minor": 2
}
