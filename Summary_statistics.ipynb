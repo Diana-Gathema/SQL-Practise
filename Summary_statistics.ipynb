{
 "cells": [
  {
   "cell_type": "code",
   "execution_count": 1,
   "metadata": {
    "vscode": {
     "languageId": "sql"
    }
   },
   "outputs": [],
   "source": [
    "%load_ext sql\n",
    "%sql sqlite:///Jobs.db"
   ]
  },
  {
   "attachments": {},
   "cell_type": "markdown",
   "metadata": {},
   "source": [
    "## Summary Statistics"
   ]
  },
  {
   "attachments": {},
   "cell_type": "markdown",
   "metadata": {},
   "source": [
    "####  Some of the functions you can use include:\n",
    "    > MIN-get the minimum value\n",
    "    > MAX-get maximum value\n",
    "    > SUM-gets the total value\n",
    "    > AVG-gets the average value\n",
    "    > COUNT-counts number of cells with values\n",
    "    > ROUND-rounds the data to a number of decimal places\n",
    "    > AS-to rename the column name\n",
    "    > IS NULL-check for missing data"
   ]
  },
  {
   "attachments": {},
   "cell_type": "markdown",
   "metadata": {},
   "source": [
    "### MIN"
   ]
  },
  {
   "cell_type": "code",
   "execution_count": 3,
   "metadata": {
    "vscode": {
     "languageId": "sql"
    }
   },
   "outputs": [
    {
     "name": "stdout",
     "output_type": "stream",
     "text": [
      " * sqlite:///Jobs.db\n",
      "Done.\n"
     ]
    },
    {
     "data": {
      "text/html": [
       "<table>\n",
       "    <thead>\n",
       "        <tr>\n",
       "            <th>Major</th>\n",
       "            <th>min_unemployement_rate</th>\n",
       "        </tr>\n",
       "    </thead>\n",
       "    <tbody>\n",
       "        <tr>\n",
       "            <td>MATHEMATICS AND COMPUTER SCIENCE</td>\n",
       "            <td>0.0</td>\n",
       "        </tr>\n",
       "    </tbody>\n",
       "</table>"
      ],
      "text/plain": [
       "[('MATHEMATICS AND COMPUTER SCIENCE', 0.0)]"
      ]
     },
     "execution_count": 3,
     "metadata": {},
     "output_type": "execute_result"
    }
   ],
   "source": [
    "%%sql\n",
    "SELECT Major,MIN(Unemployment_rate) AS min_unemployement_rate\n",
    "    FROM recent_grads;"
   ]
  },
  {
   "attachments": {},
   "cell_type": "markdown",
   "metadata": {},
   "source": [
    "### MAX"
   ]
  },
  {
   "cell_type": "code",
   "execution_count": 4,
   "metadata": {
    "vscode": {
     "languageId": "sql"
    }
   },
   "outputs": [
    {
     "name": "stdout",
     "output_type": "stream",
     "text": [
      " * sqlite:///Jobs.db\n",
      "Done.\n"
     ]
    },
    {
     "data": {
      "text/html": [
       "<table>\n",
       "    <thead>\n",
       "        <tr>\n",
       "            <th>Major</th>\n",
       "            <th>max_unemployement_rate</th>\n",
       "        </tr>\n",
       "    </thead>\n",
       "    <tbody>\n",
       "        <tr>\n",
       "            <td>NUCLEAR ENGINEERING</td>\n",
       "            <td>0.177226407</td>\n",
       "        </tr>\n",
       "    </tbody>\n",
       "</table>"
      ],
      "text/plain": [
       "[('NUCLEAR ENGINEERING', 0.177226407)]"
      ]
     },
     "execution_count": 4,
     "metadata": {},
     "output_type": "execute_result"
    }
   ],
   "source": [
    "%%sql\n",
    "SELECT Major,MAX(Unemployment_rate) AS max_unemployement_rate\n",
    "    FROM recent_grads;"
   ]
  },
  {
   "attachments": {},
   "cell_type": "markdown",
   "metadata": {},
   "source": [
    "### SUM"
   ]
  },
  {
   "cell_type": "code",
   "execution_count": 5,
   "metadata": {
    "vscode": {
     "languageId": "sql"
    }
   },
   "outputs": [
    {
     "name": "stdout",
     "output_type": "stream",
     "text": [
      " * sqlite:///Jobs.db\n",
      "Done.\n"
     ]
    },
    {
     "data": {
      "text/html": [
       "<table>\n",
       "    <thead>\n",
       "        <tr>\n",
       "            <th>SUM(Unemployed)</th>\n",
       "        </tr>\n",
       "    </thead>\n",
       "    <tbody>\n",
       "        <tr>\n",
       "            <td>29817</td>\n",
       "        </tr>\n",
       "    </tbody>\n",
       "</table>"
      ],
      "text/plain": [
       "[(29817,)]"
      ]
     },
     "execution_count": 5,
     "metadata": {},
     "output_type": "execute_result"
    }
   ],
   "source": [
    "%%sql\n",
    "SELECT SUM(Unemployed)\n",
    "FROM recent_grads\n",
    "WHERE Major_Category=\"Engineering\";"
   ]
  },
  {
   "attachments": {},
   "cell_type": "markdown",
   "metadata": {},
   "source": [
    "#### Retrieving unique fields"
   ]
  },
  {
   "cell_type": "code",
   "execution_count": 6,
   "metadata": {
    "vscode": {
     "languageId": "sql"
    }
   },
   "outputs": [
    {
     "name": "stdout",
     "output_type": "stream",
     "text": [
      " * sqlite:///Jobs.db\n",
      "Done.\n"
     ]
    },
    {
     "data": {
      "text/html": [
       "<table>\n",
       "    <thead>\n",
       "        <tr>\n",
       "            <th>Major_category</th>\n",
       "        </tr>\n",
       "    </thead>\n",
       "    <tbody>\n",
       "        <tr>\n",
       "            <td>Engineering</td>\n",
       "        </tr>\n",
       "        <tr>\n",
       "            <td>Business</td>\n",
       "        </tr>\n",
       "        <tr>\n",
       "            <td>Physical Sciences</td>\n",
       "        </tr>\n",
       "        <tr>\n",
       "            <td>Law &amp; Public Policy</td>\n",
       "        </tr>\n",
       "        <tr>\n",
       "            <td>Computers &amp; Mathematics</td>\n",
       "        </tr>\n",
       "        <tr>\n",
       "            <td>Agriculture &amp; Natural Resources</td>\n",
       "        </tr>\n",
       "        <tr>\n",
       "            <td>Industrial Arts &amp; Consumer Services</td>\n",
       "        </tr>\n",
       "        <tr>\n",
       "            <td>Arts</td>\n",
       "        </tr>\n",
       "        <tr>\n",
       "            <td>Health</td>\n",
       "        </tr>\n",
       "        <tr>\n",
       "            <td>Social Science</td>\n",
       "        </tr>\n",
       "        <tr>\n",
       "            <td>Biology &amp; Life Science</td>\n",
       "        </tr>\n",
       "        <tr>\n",
       "            <td>Education</td>\n",
       "        </tr>\n",
       "        <tr>\n",
       "            <td>Humanities &amp; Liberal Arts</td>\n",
       "        </tr>\n",
       "        <tr>\n",
       "            <td>Psychology &amp; Social Work</td>\n",
       "        </tr>\n",
       "        <tr>\n",
       "            <td>Communications &amp; Journalism</td>\n",
       "        </tr>\n",
       "        <tr>\n",
       "            <td>Interdisciplinary</td>\n",
       "        </tr>\n",
       "    </tbody>\n",
       "</table>"
      ],
      "text/plain": [
       "[('Engineering',),\n",
       " ('Business',),\n",
       " ('Physical Sciences',),\n",
       " ('Law & Public Policy',),\n",
       " ('Computers & Mathematics',),\n",
       " ('Agriculture & Natural Resources',),\n",
       " ('Industrial Arts & Consumer Services',),\n",
       " ('Arts',),\n",
       " ('Health',),\n",
       " ('Social Science',),\n",
       " ('Biology & Life Science',),\n",
       " ('Education',),\n",
       " ('Humanities & Liberal Arts',),\n",
       " ('Psychology & Social Work',),\n",
       " ('Communications & Journalism',),\n",
       " ('Interdisciplinary',)]"
      ]
     },
     "execution_count": 6,
     "metadata": {},
     "output_type": "execute_result"
    }
   ],
   "source": [
    "%%sql\n",
    "SELECT DISTINCT(Major_Category)\n",
    "FROM recent_grads;"
   ]
  },
  {
   "cell_type": "code",
   "execution_count": 7,
   "metadata": {
    "vscode": {
     "languageId": "sql"
    }
   },
   "outputs": [
    {
     "name": "stdout",
     "output_type": "stream",
     "text": [
      " * sqlite:///Jobs.db\n",
      "Done.\n"
     ]
    },
    {
     "data": {
      "text/html": [
       "<table>\n",
       "    <thead>\n",
       "        <tr>\n",
       "            <th>Minimum</th>\n",
       "            <th>Maximum</th>\n",
       "            <th>Average</th>\n",
       "        </tr>\n",
       "    </thead>\n",
       "    <tbody>\n",
       "        <tr>\n",
       "            <td>0.0</td>\n",
       "            <td>0.18</td>\n",
       "            <td>0.07</td>\n",
       "        </tr>\n",
       "    </tbody>\n",
       "</table>"
      ],
      "text/plain": [
       "[(0.0, 0.18, 0.07)]"
      ]
     },
     "execution_count": 7,
     "metadata": {},
     "output_type": "execute_result"
    }
   ],
   "source": [
    "%%sql\n",
    "SELECT\n",
    "  MIN(Unemployment_rate) AS Minimum,\n",
    "  ROUND(MAX(Unemployment_rate),2) AS Maximum,\n",
    "  ROUND(AVG(Unemployment_rate),2) AS Average\n",
    "  FROM recent_grads;"
   ]
  },
  {
   "cell_type": "code",
   "execution_count": null,
   "metadata": {
    "vscode": {
     "languageId": "sql"
    }
   },
   "outputs": [],
   "source": []
  }
 ],
 "metadata": {
  "kernelspec": {
   "display_name": "myenv",
   "language": "python",
   "name": "python3"
  },
  "language_info": {
   "codemirror_mode": {
    "name": "ipython",
    "version": 3
   },
   "file_extension": ".py",
   "mimetype": "text/x-python",
   "name": "python",
   "nbconvert_exporter": "python",
   "pygments_lexer": "ipython3",
   "version": "3.9.16"
  },
  "orig_nbformat": 4
 },
 "nbformat": 4,
 "nbformat_minor": 2
}
